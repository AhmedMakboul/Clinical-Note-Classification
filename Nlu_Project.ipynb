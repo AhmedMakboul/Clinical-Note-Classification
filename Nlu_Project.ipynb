{
  "nbformat": 4,
  "nbformat_minor": 0,
  "metadata": {
    "colab": {
      "provenance": [],
      "gpuType": "T4",
      "include_colab_link": true
    },
    "kernelspec": {
      "name": "python3",
      "display_name": "Python 3"
    },
    "language_info": {
      "name": "python"
    },
    "accelerator": "GPU",
    "widgets": {
      "application/vnd.jupyter.widget-state+json": {
        "9e146310834641d6af30b2e5fd6d638b": {
          "model_module": "@jupyter-widgets/controls",
          "model_name": "HBoxModel",
          "model_module_version": "1.5.0",
          "state": {
            "_dom_classes": [],
            "_model_module": "@jupyter-widgets/controls",
            "_model_module_version": "1.5.0",
            "_model_name": "HBoxModel",
            "_view_count": null,
            "_view_module": "@jupyter-widgets/controls",
            "_view_module_version": "1.5.0",
            "_view_name": "HBoxView",
            "box_style": "",
            "children": [
              "IPY_MODEL_744af2cbeece424aaba09ed1c64eaae4",
              "IPY_MODEL_a778473b63374a18949fa3ada9750021",
              "IPY_MODEL_55fba40f547c49699ee6c4bf280eb145"
            ],
            "layout": "IPY_MODEL_deadc839f2814a058453b5c5b2168455"
          }
        },
        "744af2cbeece424aaba09ed1c64eaae4": {
          "model_module": "@jupyter-widgets/controls",
          "model_name": "HTMLModel",
          "model_module_version": "1.5.0",
          "state": {
            "_dom_classes": [],
            "_model_module": "@jupyter-widgets/controls",
            "_model_module_version": "1.5.0",
            "_model_name": "HTMLModel",
            "_view_count": null,
            "_view_module": "@jupyter-widgets/controls",
            "_view_module_version": "1.5.0",
            "_view_name": "HTMLView",
            "description": "",
            "description_tooltip": null,
            "layout": "IPY_MODEL_76c0e3ec44d24bbb8557cb521a2fea24",
            "placeholder": "​",
            "style": "IPY_MODEL_51c87da6eff749e9828ac581fa09b034",
            "value": "config.json: 100%"
          }
        },
        "a778473b63374a18949fa3ada9750021": {
          "model_module": "@jupyter-widgets/controls",
          "model_name": "FloatProgressModel",
          "model_module_version": "1.5.0",
          "state": {
            "_dom_classes": [],
            "_model_module": "@jupyter-widgets/controls",
            "_model_module_version": "1.5.0",
            "_model_name": "FloatProgressModel",
            "_view_count": null,
            "_view_module": "@jupyter-widgets/controls",
            "_view_module_version": "1.5.0",
            "_view_name": "ProgressView",
            "bar_style": "success",
            "description": "",
            "description_tooltip": null,
            "layout": "IPY_MODEL_bc8858c0bba5440f8dcedb623e84be1c",
            "max": 608,
            "min": 0,
            "orientation": "horizontal",
            "style": "IPY_MODEL_85c660aedc1d46fab4c6fcb8ee2b7daa",
            "value": 608
          }
        },
        "55fba40f547c49699ee6c4bf280eb145": {
          "model_module": "@jupyter-widgets/controls",
          "model_name": "HTMLModel",
          "model_module_version": "1.5.0",
          "state": {
            "_dom_classes": [],
            "_model_module": "@jupyter-widgets/controls",
            "_model_module_version": "1.5.0",
            "_model_name": "HTMLModel",
            "_view_count": null,
            "_view_module": "@jupyter-widgets/controls",
            "_view_module_version": "1.5.0",
            "_view_name": "HTMLView",
            "description": "",
            "description_tooltip": null,
            "layout": "IPY_MODEL_5f78c3eac5954706a1892cc66b75affa",
            "placeholder": "​",
            "style": "IPY_MODEL_138fcceea4c34ad496810628b3b208fc",
            "value": " 608/608 [00:00&lt;00:00, 13.5kB/s]"
          }
        },
        "deadc839f2814a058453b5c5b2168455": {
          "model_module": "@jupyter-widgets/base",
          "model_name": "LayoutModel",
          "model_module_version": "1.2.0",
          "state": {
            "_model_module": "@jupyter-widgets/base",
            "_model_module_version": "1.2.0",
            "_model_name": "LayoutModel",
            "_view_count": null,
            "_view_module": "@jupyter-widgets/base",
            "_view_module_version": "1.2.0",
            "_view_name": "LayoutView",
            "align_content": null,
            "align_items": null,
            "align_self": null,
            "border": null,
            "bottom": null,
            "display": null,
            "flex": null,
            "flex_flow": null,
            "grid_area": null,
            "grid_auto_columns": null,
            "grid_auto_flow": null,
            "grid_auto_rows": null,
            "grid_column": null,
            "grid_gap": null,
            "grid_row": null,
            "grid_template_areas": null,
            "grid_template_columns": null,
            "grid_template_rows": null,
            "height": null,
            "justify_content": null,
            "justify_items": null,
            "left": null,
            "margin": null,
            "max_height": null,
            "max_width": null,
            "min_height": null,
            "min_width": null,
            "object_fit": null,
            "object_position": null,
            "order": null,
            "overflow": null,
            "overflow_x": null,
            "overflow_y": null,
            "padding": null,
            "right": null,
            "top": null,
            "visibility": null,
            "width": null
          }
        },
        "76c0e3ec44d24bbb8557cb521a2fea24": {
          "model_module": "@jupyter-widgets/base",
          "model_name": "LayoutModel",
          "model_module_version": "1.2.0",
          "state": {
            "_model_module": "@jupyter-widgets/base",
            "_model_module_version": "1.2.0",
            "_model_name": "LayoutModel",
            "_view_count": null,
            "_view_module": "@jupyter-widgets/base",
            "_view_module_version": "1.2.0",
            "_view_name": "LayoutView",
            "align_content": null,
            "align_items": null,
            "align_self": null,
            "border": null,
            "bottom": null,
            "display": null,
            "flex": null,
            "flex_flow": null,
            "grid_area": null,
            "grid_auto_columns": null,
            "grid_auto_flow": null,
            "grid_auto_rows": null,
            "grid_column": null,
            "grid_gap": null,
            "grid_row": null,
            "grid_template_areas": null,
            "grid_template_columns": null,
            "grid_template_rows": null,
            "height": null,
            "justify_content": null,
            "justify_items": null,
            "left": null,
            "margin": null,
            "max_height": null,
            "max_width": null,
            "min_height": null,
            "min_width": null,
            "object_fit": null,
            "object_position": null,
            "order": null,
            "overflow": null,
            "overflow_x": null,
            "overflow_y": null,
            "padding": null,
            "right": null,
            "top": null,
            "visibility": null,
            "width": null
          }
        },
        "51c87da6eff749e9828ac581fa09b034": {
          "model_module": "@jupyter-widgets/controls",
          "model_name": "DescriptionStyleModel",
          "model_module_version": "1.5.0",
          "state": {
            "_model_module": "@jupyter-widgets/controls",
            "_model_module_version": "1.5.0",
            "_model_name": "DescriptionStyleModel",
            "_view_count": null,
            "_view_module": "@jupyter-widgets/base",
            "_view_module_version": "1.2.0",
            "_view_name": "StyleView",
            "description_width": ""
          }
        },
        "bc8858c0bba5440f8dcedb623e84be1c": {
          "model_module": "@jupyter-widgets/base",
          "model_name": "LayoutModel",
          "model_module_version": "1.2.0",
          "state": {
            "_model_module": "@jupyter-widgets/base",
            "_model_module_version": "1.2.0",
            "_model_name": "LayoutModel",
            "_view_count": null,
            "_view_module": "@jupyter-widgets/base",
            "_view_module_version": "1.2.0",
            "_view_name": "LayoutView",
            "align_content": null,
            "align_items": null,
            "align_self": null,
            "border": null,
            "bottom": null,
            "display": null,
            "flex": null,
            "flex_flow": null,
            "grid_area": null,
            "grid_auto_columns": null,
            "grid_auto_flow": null,
            "grid_auto_rows": null,
            "grid_column": null,
            "grid_gap": null,
            "grid_row": null,
            "grid_template_areas": null,
            "grid_template_columns": null,
            "grid_template_rows": null,
            "height": null,
            "justify_content": null,
            "justify_items": null,
            "left": null,
            "margin": null,
            "max_height": null,
            "max_width": null,
            "min_height": null,
            "min_width": null,
            "object_fit": null,
            "object_position": null,
            "order": null,
            "overflow": null,
            "overflow_x": null,
            "overflow_y": null,
            "padding": null,
            "right": null,
            "top": null,
            "visibility": null,
            "width": null
          }
        },
        "85c660aedc1d46fab4c6fcb8ee2b7daa": {
          "model_module": "@jupyter-widgets/controls",
          "model_name": "ProgressStyleModel",
          "model_module_version": "1.5.0",
          "state": {
            "_model_module": "@jupyter-widgets/controls",
            "_model_module_version": "1.5.0",
            "_model_name": "ProgressStyleModel",
            "_view_count": null,
            "_view_module": "@jupyter-widgets/base",
            "_view_module_version": "1.2.0",
            "_view_name": "StyleView",
            "bar_color": null,
            "description_width": ""
          }
        },
        "5f78c3eac5954706a1892cc66b75affa": {
          "model_module": "@jupyter-widgets/base",
          "model_name": "LayoutModel",
          "model_module_version": "1.2.0",
          "state": {
            "_model_module": "@jupyter-widgets/base",
            "_model_module_version": "1.2.0",
            "_model_name": "LayoutModel",
            "_view_count": null,
            "_view_module": "@jupyter-widgets/base",
            "_view_module_version": "1.2.0",
            "_view_name": "LayoutView",
            "align_content": null,
            "align_items": null,
            "align_self": null,
            "border": null,
            "bottom": null,
            "display": null,
            "flex": null,
            "flex_flow": null,
            "grid_area": null,
            "grid_auto_columns": null,
            "grid_auto_flow": null,
            "grid_auto_rows": null,
            "grid_column": null,
            "grid_gap": null,
            "grid_row": null,
            "grid_template_areas": null,
            "grid_template_columns": null,
            "grid_template_rows": null,
            "height": null,
            "justify_content": null,
            "justify_items": null,
            "left": null,
            "margin": null,
            "max_height": null,
            "max_width": null,
            "min_height": null,
            "min_width": null,
            "object_fit": null,
            "object_position": null,
            "order": null,
            "overflow": null,
            "overflow_x": null,
            "overflow_y": null,
            "padding": null,
            "right": null,
            "top": null,
            "visibility": null,
            "width": null
          }
        },
        "138fcceea4c34ad496810628b3b208fc": {
          "model_module": "@jupyter-widgets/controls",
          "model_name": "DescriptionStyleModel",
          "model_module_version": "1.5.0",
          "state": {
            "_model_module": "@jupyter-widgets/controls",
            "_model_module_version": "1.5.0",
            "_model_name": "DescriptionStyleModel",
            "_view_count": null,
            "_view_module": "@jupyter-widgets/base",
            "_view_module_version": "1.2.0",
            "_view_name": "StyleView",
            "description_width": ""
          }
        },
        "bc7db86fd1604ec7a67abaefba77ff57": {
          "model_module": "@jupyter-widgets/controls",
          "model_name": "HBoxModel",
          "model_module_version": "1.5.0",
          "state": {
            "_dom_classes": [],
            "_model_module": "@jupyter-widgets/controls",
            "_model_module_version": "1.5.0",
            "_model_name": "HBoxModel",
            "_view_count": null,
            "_view_module": "@jupyter-widgets/controls",
            "_view_module_version": "1.5.0",
            "_view_name": "HBoxView",
            "box_style": "",
            "children": [
              "IPY_MODEL_dfae9739b64c4c9984f0f11d6bd9c213",
              "IPY_MODEL_2fe7ab768f6f4343abb466e60f82e59e",
              "IPY_MODEL_7fa88442e83143ebbea07571f7f13635"
            ],
            "layout": "IPY_MODEL_b45945128df842858fa68b4052ca8f3e"
          }
        },
        "dfae9739b64c4c9984f0f11d6bd9c213": {
          "model_module": "@jupyter-widgets/controls",
          "model_name": "HTMLModel",
          "model_module_version": "1.5.0",
          "state": {
            "_dom_classes": [],
            "_model_module": "@jupyter-widgets/controls",
            "_model_module_version": "1.5.0",
            "_model_name": "HTMLModel",
            "_view_count": null,
            "_view_module": "@jupyter-widgets/controls",
            "_view_module_version": "1.5.0",
            "_view_name": "HTMLView",
            "description": "",
            "description_tooltip": null,
            "layout": "IPY_MODEL_1acf9f93669e428da2b784ac57d0490c",
            "placeholder": "​",
            "style": "IPY_MODEL_417597da6f1349ef8d67b75b022eab62",
            "value": "model.safetensors: 100%"
          }
        },
        "2fe7ab768f6f4343abb466e60f82e59e": {
          "model_module": "@jupyter-widgets/controls",
          "model_name": "FloatProgressModel",
          "model_module_version": "1.5.0",
          "state": {
            "_dom_classes": [],
            "_model_module": "@jupyter-widgets/controls",
            "_model_module_version": "1.5.0",
            "_model_name": "FloatProgressModel",
            "_view_count": null,
            "_view_module": "@jupyter-widgets/controls",
            "_view_module_version": "1.5.0",
            "_view_name": "ProgressView",
            "bar_style": "success",
            "description": "",
            "description_tooltip": null,
            "layout": "IPY_MODEL_7eccf689e5164a3b83073c0ca7306d0f",
            "max": 2200119864,
            "min": 0,
            "orientation": "horizontal",
            "style": "IPY_MODEL_4fffc570420443b3ab3d0c468381039a",
            "value": 2200119864
          }
        },
        "7fa88442e83143ebbea07571f7f13635": {
          "model_module": "@jupyter-widgets/controls",
          "model_name": "HTMLModel",
          "model_module_version": "1.5.0",
          "state": {
            "_dom_classes": [],
            "_model_module": "@jupyter-widgets/controls",
            "_model_module_version": "1.5.0",
            "_model_name": "HTMLModel",
            "_view_count": null,
            "_view_module": "@jupyter-widgets/controls",
            "_view_module_version": "1.5.0",
            "_view_name": "HTMLView",
            "description": "",
            "description_tooltip": null,
            "layout": "IPY_MODEL_29440677813d43d0a617026e4420abb8",
            "placeholder": "​",
            "style": "IPY_MODEL_18871fa204e64a20a0c74657e3720e4c",
            "value": " 2.20G/2.20G [00:23&lt;00:00, 59.8MB/s]"
          }
        },
        "b45945128df842858fa68b4052ca8f3e": {
          "model_module": "@jupyter-widgets/base",
          "model_name": "LayoutModel",
          "model_module_version": "1.2.0",
          "state": {
            "_model_module": "@jupyter-widgets/base",
            "_model_module_version": "1.2.0",
            "_model_name": "LayoutModel",
            "_view_count": null,
            "_view_module": "@jupyter-widgets/base",
            "_view_module_version": "1.2.0",
            "_view_name": "LayoutView",
            "align_content": null,
            "align_items": null,
            "align_self": null,
            "border": null,
            "bottom": null,
            "display": null,
            "flex": null,
            "flex_flow": null,
            "grid_area": null,
            "grid_auto_columns": null,
            "grid_auto_flow": null,
            "grid_auto_rows": null,
            "grid_column": null,
            "grid_gap": null,
            "grid_row": null,
            "grid_template_areas": null,
            "grid_template_columns": null,
            "grid_template_rows": null,
            "height": null,
            "justify_content": null,
            "justify_items": null,
            "left": null,
            "margin": null,
            "max_height": null,
            "max_width": null,
            "min_height": null,
            "min_width": null,
            "object_fit": null,
            "object_position": null,
            "order": null,
            "overflow": null,
            "overflow_x": null,
            "overflow_y": null,
            "padding": null,
            "right": null,
            "top": null,
            "visibility": null,
            "width": null
          }
        },
        "1acf9f93669e428da2b784ac57d0490c": {
          "model_module": "@jupyter-widgets/base",
          "model_name": "LayoutModel",
          "model_module_version": "1.2.0",
          "state": {
            "_model_module": "@jupyter-widgets/base",
            "_model_module_version": "1.2.0",
            "_model_name": "LayoutModel",
            "_view_count": null,
            "_view_module": "@jupyter-widgets/base",
            "_view_module_version": "1.2.0",
            "_view_name": "LayoutView",
            "align_content": null,
            "align_items": null,
            "align_self": null,
            "border": null,
            "bottom": null,
            "display": null,
            "flex": null,
            "flex_flow": null,
            "grid_area": null,
            "grid_auto_columns": null,
            "grid_auto_flow": null,
            "grid_auto_rows": null,
            "grid_column": null,
            "grid_gap": null,
            "grid_row": null,
            "grid_template_areas": null,
            "grid_template_columns": null,
            "grid_template_rows": null,
            "height": null,
            "justify_content": null,
            "justify_items": null,
            "left": null,
            "margin": null,
            "max_height": null,
            "max_width": null,
            "min_height": null,
            "min_width": null,
            "object_fit": null,
            "object_position": null,
            "order": null,
            "overflow": null,
            "overflow_x": null,
            "overflow_y": null,
            "padding": null,
            "right": null,
            "top": null,
            "visibility": null,
            "width": null
          }
        },
        "417597da6f1349ef8d67b75b022eab62": {
          "model_module": "@jupyter-widgets/controls",
          "model_name": "DescriptionStyleModel",
          "model_module_version": "1.5.0",
          "state": {
            "_model_module": "@jupyter-widgets/controls",
            "_model_module_version": "1.5.0",
            "_model_name": "DescriptionStyleModel",
            "_view_count": null,
            "_view_module": "@jupyter-widgets/base",
            "_view_module_version": "1.2.0",
            "_view_name": "StyleView",
            "description_width": ""
          }
        },
        "7eccf689e5164a3b83073c0ca7306d0f": {
          "model_module": "@jupyter-widgets/base",
          "model_name": "LayoutModel",
          "model_module_version": "1.2.0",
          "state": {
            "_model_module": "@jupyter-widgets/base",
            "_model_module_version": "1.2.0",
            "_model_name": "LayoutModel",
            "_view_count": null,
            "_view_module": "@jupyter-widgets/base",
            "_view_module_version": "1.2.0",
            "_view_name": "LayoutView",
            "align_content": null,
            "align_items": null,
            "align_self": null,
            "border": null,
            "bottom": null,
            "display": null,
            "flex": null,
            "flex_flow": null,
            "grid_area": null,
            "grid_auto_columns": null,
            "grid_auto_flow": null,
            "grid_auto_rows": null,
            "grid_column": null,
            "grid_gap": null,
            "grid_row": null,
            "grid_template_areas": null,
            "grid_template_columns": null,
            "grid_template_rows": null,
            "height": null,
            "justify_content": null,
            "justify_items": null,
            "left": null,
            "margin": null,
            "max_height": null,
            "max_width": null,
            "min_height": null,
            "min_width": null,
            "object_fit": null,
            "object_position": null,
            "order": null,
            "overflow": null,
            "overflow_x": null,
            "overflow_y": null,
            "padding": null,
            "right": null,
            "top": null,
            "visibility": null,
            "width": null
          }
        },
        "4fffc570420443b3ab3d0c468381039a": {
          "model_module": "@jupyter-widgets/controls",
          "model_name": "ProgressStyleModel",
          "model_module_version": "1.5.0",
          "state": {
            "_model_module": "@jupyter-widgets/controls",
            "_model_module_version": "1.5.0",
            "_model_name": "ProgressStyleModel",
            "_view_count": null,
            "_view_module": "@jupyter-widgets/base",
            "_view_module_version": "1.2.0",
            "_view_name": "StyleView",
            "bar_color": null,
            "description_width": ""
          }
        },
        "29440677813d43d0a617026e4420abb8": {
          "model_module": "@jupyter-widgets/base",
          "model_name": "LayoutModel",
          "model_module_version": "1.2.0",
          "state": {
            "_model_module": "@jupyter-widgets/base",
            "_model_module_version": "1.2.0",
            "_model_name": "LayoutModel",
            "_view_count": null,
            "_view_module": "@jupyter-widgets/base",
            "_view_module_version": "1.2.0",
            "_view_name": "LayoutView",
            "align_content": null,
            "align_items": null,
            "align_self": null,
            "border": null,
            "bottom": null,
            "display": null,
            "flex": null,
            "flex_flow": null,
            "grid_area": null,
            "grid_auto_columns": null,
            "grid_auto_flow": null,
            "grid_auto_rows": null,
            "grid_column": null,
            "grid_gap": null,
            "grid_row": null,
            "grid_template_areas": null,
            "grid_template_columns": null,
            "grid_template_rows": null,
            "height": null,
            "justify_content": null,
            "justify_items": null,
            "left": null,
            "margin": null,
            "max_height": null,
            "max_width": null,
            "min_height": null,
            "min_width": null,
            "object_fit": null,
            "object_position": null,
            "order": null,
            "overflow": null,
            "overflow_x": null,
            "overflow_y": null,
            "padding": null,
            "right": null,
            "top": null,
            "visibility": null,
            "width": null
          }
        },
        "18871fa204e64a20a0c74657e3720e4c": {
          "model_module": "@jupyter-widgets/controls",
          "model_name": "DescriptionStyleModel",
          "model_module_version": "1.5.0",
          "state": {
            "_model_module": "@jupyter-widgets/controls",
            "_model_module_version": "1.5.0",
            "_model_name": "DescriptionStyleModel",
            "_view_count": null,
            "_view_module": "@jupyter-widgets/base",
            "_view_module_version": "1.2.0",
            "_view_name": "StyleView",
            "description_width": ""
          }
        },
        "48cb7a4230d740d5bbc6ca6827e91d66": {
          "model_module": "@jupyter-widgets/controls",
          "model_name": "HBoxModel",
          "model_module_version": "1.5.0",
          "state": {
            "_dom_classes": [],
            "_model_module": "@jupyter-widgets/controls",
            "_model_module_version": "1.5.0",
            "_model_name": "HBoxModel",
            "_view_count": null,
            "_view_module": "@jupyter-widgets/controls",
            "_view_module_version": "1.5.0",
            "_view_name": "HBoxView",
            "box_style": "",
            "children": [
              "IPY_MODEL_d49ec40315864b999c8d34785031e472",
              "IPY_MODEL_a053d69f97004f00bc998759380e7c3c",
              "IPY_MODEL_814b4ba97dae4df0a4a745b53120ea86"
            ],
            "layout": "IPY_MODEL_43dd1c1827934fb9ba19303752c9781f"
          }
        },
        "d49ec40315864b999c8d34785031e472": {
          "model_module": "@jupyter-widgets/controls",
          "model_name": "HTMLModel",
          "model_module_version": "1.5.0",
          "state": {
            "_dom_classes": [],
            "_model_module": "@jupyter-widgets/controls",
            "_model_module_version": "1.5.0",
            "_model_name": "HTMLModel",
            "_view_count": null,
            "_view_module": "@jupyter-widgets/controls",
            "_view_module_version": "1.5.0",
            "_view_name": "HTMLView",
            "description": "",
            "description_tooltip": null,
            "layout": "IPY_MODEL_ba070e86f1814f698e55bd1d7285aff2",
            "placeholder": "​",
            "style": "IPY_MODEL_66255e0871d34edd9b8608a22635738e",
            "value": "generation_config.json: 100%"
          }
        },
        "a053d69f97004f00bc998759380e7c3c": {
          "model_module": "@jupyter-widgets/controls",
          "model_name": "FloatProgressModel",
          "model_module_version": "1.5.0",
          "state": {
            "_dom_classes": [],
            "_model_module": "@jupyter-widgets/controls",
            "_model_module_version": "1.5.0",
            "_model_name": "FloatProgressModel",
            "_view_count": null,
            "_view_module": "@jupyter-widgets/controls",
            "_view_module_version": "1.5.0",
            "_view_name": "ProgressView",
            "bar_style": "success",
            "description": "",
            "description_tooltip": null,
            "layout": "IPY_MODEL_a5b831b98d234c6b93853df6f7c5ab78",
            "max": 124,
            "min": 0,
            "orientation": "horizontal",
            "style": "IPY_MODEL_cc0fc904fcca4f3a9f45b29b115d997d",
            "value": 124
          }
        },
        "814b4ba97dae4df0a4a745b53120ea86": {
          "model_module": "@jupyter-widgets/controls",
          "model_name": "HTMLModel",
          "model_module_version": "1.5.0",
          "state": {
            "_dom_classes": [],
            "_model_module": "@jupyter-widgets/controls",
            "_model_module_version": "1.5.0",
            "_model_name": "HTMLModel",
            "_view_count": null,
            "_view_module": "@jupyter-widgets/controls",
            "_view_module_version": "1.5.0",
            "_view_name": "HTMLView",
            "description": "",
            "description_tooltip": null,
            "layout": "IPY_MODEL_6f885eecb55f4218a3409aca71d3d747",
            "placeholder": "​",
            "style": "IPY_MODEL_ed8982a011734962a48ccfcf290c8a0f",
            "value": " 124/124 [00:00&lt;00:00, 10.9kB/s]"
          }
        },
        "43dd1c1827934fb9ba19303752c9781f": {
          "model_module": "@jupyter-widgets/base",
          "model_name": "LayoutModel",
          "model_module_version": "1.2.0",
          "state": {
            "_model_module": "@jupyter-widgets/base",
            "_model_module_version": "1.2.0",
            "_model_name": "LayoutModel",
            "_view_count": null,
            "_view_module": "@jupyter-widgets/base",
            "_view_module_version": "1.2.0",
            "_view_name": "LayoutView",
            "align_content": null,
            "align_items": null,
            "align_self": null,
            "border": null,
            "bottom": null,
            "display": null,
            "flex": null,
            "flex_flow": null,
            "grid_area": null,
            "grid_auto_columns": null,
            "grid_auto_flow": null,
            "grid_auto_rows": null,
            "grid_column": null,
            "grid_gap": null,
            "grid_row": null,
            "grid_template_areas": null,
            "grid_template_columns": null,
            "grid_template_rows": null,
            "height": null,
            "justify_content": null,
            "justify_items": null,
            "left": null,
            "margin": null,
            "max_height": null,
            "max_width": null,
            "min_height": null,
            "min_width": null,
            "object_fit": null,
            "object_position": null,
            "order": null,
            "overflow": null,
            "overflow_x": null,
            "overflow_y": null,
            "padding": null,
            "right": null,
            "top": null,
            "visibility": null,
            "width": null
          }
        },
        "ba070e86f1814f698e55bd1d7285aff2": {
          "model_module": "@jupyter-widgets/base",
          "model_name": "LayoutModel",
          "model_module_version": "1.2.0",
          "state": {
            "_model_module": "@jupyter-widgets/base",
            "_model_module_version": "1.2.0",
            "_model_name": "LayoutModel",
            "_view_count": null,
            "_view_module": "@jupyter-widgets/base",
            "_view_module_version": "1.2.0",
            "_view_name": "LayoutView",
            "align_content": null,
            "align_items": null,
            "align_self": null,
            "border": null,
            "bottom": null,
            "display": null,
            "flex": null,
            "flex_flow": null,
            "grid_area": null,
            "grid_auto_columns": null,
            "grid_auto_flow": null,
            "grid_auto_rows": null,
            "grid_column": null,
            "grid_gap": null,
            "grid_row": null,
            "grid_template_areas": null,
            "grid_template_columns": null,
            "grid_template_rows": null,
            "height": null,
            "justify_content": null,
            "justify_items": null,
            "left": null,
            "margin": null,
            "max_height": null,
            "max_width": null,
            "min_height": null,
            "min_width": null,
            "object_fit": null,
            "object_position": null,
            "order": null,
            "overflow": null,
            "overflow_x": null,
            "overflow_y": null,
            "padding": null,
            "right": null,
            "top": null,
            "visibility": null,
            "width": null
          }
        },
        "66255e0871d34edd9b8608a22635738e": {
          "model_module": "@jupyter-widgets/controls",
          "model_name": "DescriptionStyleModel",
          "model_module_version": "1.5.0",
          "state": {
            "_model_module": "@jupyter-widgets/controls",
            "_model_module_version": "1.5.0",
            "_model_name": "DescriptionStyleModel",
            "_view_count": null,
            "_view_module": "@jupyter-widgets/base",
            "_view_module_version": "1.2.0",
            "_view_name": "StyleView",
            "description_width": ""
          }
        },
        "a5b831b98d234c6b93853df6f7c5ab78": {
          "model_module": "@jupyter-widgets/base",
          "model_name": "LayoutModel",
          "model_module_version": "1.2.0",
          "state": {
            "_model_module": "@jupyter-widgets/base",
            "_model_module_version": "1.2.0",
            "_model_name": "LayoutModel",
            "_view_count": null,
            "_view_module": "@jupyter-widgets/base",
            "_view_module_version": "1.2.0",
            "_view_name": "LayoutView",
            "align_content": null,
            "align_items": null,
            "align_self": null,
            "border": null,
            "bottom": null,
            "display": null,
            "flex": null,
            "flex_flow": null,
            "grid_area": null,
            "grid_auto_columns": null,
            "grid_auto_flow": null,
            "grid_auto_rows": null,
            "grid_column": null,
            "grid_gap": null,
            "grid_row": null,
            "grid_template_areas": null,
            "grid_template_columns": null,
            "grid_template_rows": null,
            "height": null,
            "justify_content": null,
            "justify_items": null,
            "left": null,
            "margin": null,
            "max_height": null,
            "max_width": null,
            "min_height": null,
            "min_width": null,
            "object_fit": null,
            "object_position": null,
            "order": null,
            "overflow": null,
            "overflow_x": null,
            "overflow_y": null,
            "padding": null,
            "right": null,
            "top": null,
            "visibility": null,
            "width": null
          }
        },
        "cc0fc904fcca4f3a9f45b29b115d997d": {
          "model_module": "@jupyter-widgets/controls",
          "model_name": "ProgressStyleModel",
          "model_module_version": "1.5.0",
          "state": {
            "_model_module": "@jupyter-widgets/controls",
            "_model_module_version": "1.5.0",
            "_model_name": "ProgressStyleModel",
            "_view_count": null,
            "_view_module": "@jupyter-widgets/base",
            "_view_module_version": "1.2.0",
            "_view_name": "StyleView",
            "bar_color": null,
            "description_width": ""
          }
        },
        "6f885eecb55f4218a3409aca71d3d747": {
          "model_module": "@jupyter-widgets/base",
          "model_name": "LayoutModel",
          "model_module_version": "1.2.0",
          "state": {
            "_model_module": "@jupyter-widgets/base",
            "_model_module_version": "1.2.0",
            "_model_name": "LayoutModel",
            "_view_count": null,
            "_view_module": "@jupyter-widgets/base",
            "_view_module_version": "1.2.0",
            "_view_name": "LayoutView",
            "align_content": null,
            "align_items": null,
            "align_self": null,
            "border": null,
            "bottom": null,
            "display": null,
            "flex": null,
            "flex_flow": null,
            "grid_area": null,
            "grid_auto_columns": null,
            "grid_auto_flow": null,
            "grid_auto_rows": null,
            "grid_column": null,
            "grid_gap": null,
            "grid_row": null,
            "grid_template_areas": null,
            "grid_template_columns": null,
            "grid_template_rows": null,
            "height": null,
            "justify_content": null,
            "justify_items": null,
            "left": null,
            "margin": null,
            "max_height": null,
            "max_width": null,
            "min_height": null,
            "min_width": null,
            "object_fit": null,
            "object_position": null,
            "order": null,
            "overflow": null,
            "overflow_x": null,
            "overflow_y": null,
            "padding": null,
            "right": null,
            "top": null,
            "visibility": null,
            "width": null
          }
        },
        "ed8982a011734962a48ccfcf290c8a0f": {
          "model_module": "@jupyter-widgets/controls",
          "model_name": "DescriptionStyleModel",
          "model_module_version": "1.5.0",
          "state": {
            "_model_module": "@jupyter-widgets/controls",
            "_model_module_version": "1.5.0",
            "_model_name": "DescriptionStyleModel",
            "_view_count": null,
            "_view_module": "@jupyter-widgets/base",
            "_view_module_version": "1.2.0",
            "_view_name": "StyleView",
            "description_width": ""
          }
        }
      }
    }
  },
  "cells": [
    {
      "cell_type": "markdown",
      "metadata": {
        "id": "view-in-github",
        "colab_type": "text"
      },
      "source": [
        "<a href=\"https://colab.research.google.com/github/AhmedMakboul/Clinical-Note-Classification/blob/main/Nlu_Project.ipynb\" target=\"_parent\"><img src=\"https://colab.research.google.com/assets/colab-badge.svg\" alt=\"Open In Colab\"/></a>"
      ]
    },
    {
      "cell_type": "markdown",
      "source": [
        "Requirements **(Packages/Access)**"
      ],
      "metadata": {
        "id": "0Ce1oIc59f9X"
      }
    },
    {
      "cell_type": "code",
      "source": [
        "\n",
        "!huggingface-cli login"
      ],
      "metadata": {
        "colab": {
          "base_uri": "https://localhost:8080/"
        },
        "id": "HGWbeB2_gUZC",
        "outputId": "9ffd3346-957e-4b7e-8251-e4385ef8cc70"
      },
      "execution_count": null,
      "outputs": [
        {
          "output_type": "stream",
          "name": "stdout",
          "text": [
            "\n",
            "    _|    _|  _|    _|    _|_|_|    _|_|_|  _|_|_|  _|      _|    _|_|_|      _|_|_|_|    _|_|      _|_|_|  _|_|_|_|\n",
            "    _|    _|  _|    _|  _|        _|          _|    _|_|    _|  _|            _|        _|    _|  _|        _|\n",
            "    _|_|_|_|  _|    _|  _|  _|_|  _|  _|_|    _|    _|  _|  _|  _|  _|_|      _|_|_|    _|_|_|_|  _|        _|_|_|\n",
            "    _|    _|  _|    _|  _|    _|  _|    _|    _|    _|    _|_|  _|    _|      _|        _|    _|  _|        _|\n",
            "    _|    _|    _|_|      _|_|_|    _|_|_|  _|_|_|  _|      _|    _|_|_|      _|        _|    _|    _|_|_|  _|_|_|_|\n",
            "\n",
            "    To log in, `huggingface_hub` requires a token generated from https://huggingface.co/settings/tokens .\n",
            "Enter your token (input will not be visible): \n",
            "Add token as git credential? (Y/n) y\n",
            "Token is valid (permission: fineGrained).\n",
            "The token `last_lora` has been saved to /root/.cache/huggingface/stored_tokens\n",
            "\u001b[1m\u001b[31mCannot authenticate through git-credential as no helper is defined on your machine.\n",
            "You might have to re-authenticate when pushing to the Hugging Face Hub.\n",
            "Run the following command in your terminal in case you want to set the 'store' credential helper as default.\n",
            "\n",
            "git config --global credential.helper store\n",
            "\n",
            "Read https://git-scm.com/book/en/v2/Git-Tools-Credential-Storage for more details.\u001b[0m\n",
            "Token has not been saved to git credential helper.\n",
            "Your token has been saved to /root/.cache/huggingface/token\n",
            "Login successful.\n",
            "The current active token is: `last_lora`\n"
          ]
        }
      ]
    },
    {
      "cell_type": "code",
      "source": [
        "import transformers\n",
        "print(transformers.__version__)\n"
      ],
      "metadata": {
        "colab": {
          "base_uri": "https://localhost:8080/"
        },
        "id": "5ZwpMB3hRRDO",
        "outputId": "9fe81084-5225-483b-8f39-c5037ae499b9"
      },
      "execution_count": null,
      "outputs": [
        {
          "output_type": "stream",
          "name": "stdout",
          "text": [
            "4.51.3\n"
          ]
        }
      ]
    },
    {
      "cell_type": "code",
      "source": [
        "!pip install bitsandbytes\n"
      ],
      "metadata": {
        "colab": {
          "base_uri": "https://localhost:8080/"
        },
        "id": "O26xqHqLa7ep",
        "outputId": "4cfef635-49a0-4394-aaa1-ba15c79a2a09"
      },
      "execution_count": null,
      "outputs": [
        {
          "output_type": "stream",
          "name": "stdout",
          "text": [
            "Collecting bitsandbytes\n",
            "  Downloading bitsandbytes-0.45.5-py3-none-manylinux_2_24_x86_64.whl.metadata (5.0 kB)\n",
            "Requirement already satisfied: torch<3,>=2.0 in /usr/local/lib/python3.11/dist-packages (from bitsandbytes) (2.6.0+cu124)\n",
            "Requirement already satisfied: numpy>=1.17 in /usr/local/lib/python3.11/dist-packages (from bitsandbytes) (2.0.2)\n",
            "Requirement already satisfied: filelock in /usr/local/lib/python3.11/dist-packages (from torch<3,>=2.0->bitsandbytes) (3.18.0)\n",
            "Requirement already satisfied: typing-extensions>=4.10.0 in /usr/local/lib/python3.11/dist-packages (from torch<3,>=2.0->bitsandbytes) (4.13.2)\n",
            "Requirement already satisfied: networkx in /usr/local/lib/python3.11/dist-packages (from torch<3,>=2.0->bitsandbytes) (3.4.2)\n",
            "Requirement already satisfied: jinja2 in /usr/local/lib/python3.11/dist-packages (from torch<3,>=2.0->bitsandbytes) (3.1.6)\n",
            "Requirement already satisfied: fsspec in /usr/local/lib/python3.11/dist-packages (from torch<3,>=2.0->bitsandbytes) (2025.3.2)\n",
            "Collecting nvidia-cuda-nvrtc-cu12==12.4.127 (from torch<3,>=2.0->bitsandbytes)\n",
            "  Downloading nvidia_cuda_nvrtc_cu12-12.4.127-py3-none-manylinux2014_x86_64.whl.metadata (1.5 kB)\n",
            "Collecting nvidia-cuda-runtime-cu12==12.4.127 (from torch<3,>=2.0->bitsandbytes)\n",
            "  Downloading nvidia_cuda_runtime_cu12-12.4.127-py3-none-manylinux2014_x86_64.whl.metadata (1.5 kB)\n",
            "Collecting nvidia-cuda-cupti-cu12==12.4.127 (from torch<3,>=2.0->bitsandbytes)\n",
            "  Downloading nvidia_cuda_cupti_cu12-12.4.127-py3-none-manylinux2014_x86_64.whl.metadata (1.6 kB)\n",
            "Collecting nvidia-cudnn-cu12==9.1.0.70 (from torch<3,>=2.0->bitsandbytes)\n",
            "  Downloading nvidia_cudnn_cu12-9.1.0.70-py3-none-manylinux2014_x86_64.whl.metadata (1.6 kB)\n",
            "Collecting nvidia-cublas-cu12==12.4.5.8 (from torch<3,>=2.0->bitsandbytes)\n",
            "  Downloading nvidia_cublas_cu12-12.4.5.8-py3-none-manylinux2014_x86_64.whl.metadata (1.5 kB)\n",
            "Collecting nvidia-cufft-cu12==11.2.1.3 (from torch<3,>=2.0->bitsandbytes)\n",
            "  Downloading nvidia_cufft_cu12-11.2.1.3-py3-none-manylinux2014_x86_64.whl.metadata (1.5 kB)\n",
            "Collecting nvidia-curand-cu12==10.3.5.147 (from torch<3,>=2.0->bitsandbytes)\n",
            "  Downloading nvidia_curand_cu12-10.3.5.147-py3-none-manylinux2014_x86_64.whl.metadata (1.5 kB)\n",
            "Collecting nvidia-cusolver-cu12==11.6.1.9 (from torch<3,>=2.0->bitsandbytes)\n",
            "  Downloading nvidia_cusolver_cu12-11.6.1.9-py3-none-manylinux2014_x86_64.whl.metadata (1.6 kB)\n",
            "Collecting nvidia-cusparse-cu12==12.3.1.170 (from torch<3,>=2.0->bitsandbytes)\n",
            "  Downloading nvidia_cusparse_cu12-12.3.1.170-py3-none-manylinux2014_x86_64.whl.metadata (1.6 kB)\n",
            "Requirement already satisfied: nvidia-cusparselt-cu12==0.6.2 in /usr/local/lib/python3.11/dist-packages (from torch<3,>=2.0->bitsandbytes) (0.6.2)\n",
            "Requirement already satisfied: nvidia-nccl-cu12==2.21.5 in /usr/local/lib/python3.11/dist-packages (from torch<3,>=2.0->bitsandbytes) (2.21.5)\n",
            "Requirement already satisfied: nvidia-nvtx-cu12==12.4.127 in /usr/local/lib/python3.11/dist-packages (from torch<3,>=2.0->bitsandbytes) (12.4.127)\n",
            "Collecting nvidia-nvjitlink-cu12==12.4.127 (from torch<3,>=2.0->bitsandbytes)\n",
            "  Downloading nvidia_nvjitlink_cu12-12.4.127-py3-none-manylinux2014_x86_64.whl.metadata (1.5 kB)\n",
            "Requirement already satisfied: triton==3.2.0 in /usr/local/lib/python3.11/dist-packages (from torch<3,>=2.0->bitsandbytes) (3.2.0)\n",
            "Requirement already satisfied: sympy==1.13.1 in /usr/local/lib/python3.11/dist-packages (from torch<3,>=2.0->bitsandbytes) (1.13.1)\n",
            "Requirement already satisfied: mpmath<1.4,>=1.1.0 in /usr/local/lib/python3.11/dist-packages (from sympy==1.13.1->torch<3,>=2.0->bitsandbytes) (1.3.0)\n",
            "Requirement already satisfied: MarkupSafe>=2.0 in /usr/local/lib/python3.11/dist-packages (from jinja2->torch<3,>=2.0->bitsandbytes) (3.0.2)\n",
            "Downloading bitsandbytes-0.45.5-py3-none-manylinux_2_24_x86_64.whl (76.1 MB)\n",
            "\u001b[2K   \u001b[90m━━━━━━━━━━━━━━━━━━━━━━━━━━━━━━━━━━━━━━━━\u001b[0m \u001b[32m76.1/76.1 MB\u001b[0m \u001b[31m13.5 MB/s\u001b[0m eta \u001b[36m0:00:00\u001b[0m\n",
            "\u001b[?25hDownloading nvidia_cublas_cu12-12.4.5.8-py3-none-manylinux2014_x86_64.whl (363.4 MB)\n",
            "\u001b[2K   \u001b[90m━━━━━━━━━━━━━━━━━━━━━━━━━━━━━━━━━━━━━━━━\u001b[0m \u001b[32m363.4/363.4 MB\u001b[0m \u001b[31m5.9 MB/s\u001b[0m eta \u001b[36m0:00:00\u001b[0m\n",
            "\u001b[?25hDownloading nvidia_cuda_cupti_cu12-12.4.127-py3-none-manylinux2014_x86_64.whl (13.8 MB)\n",
            "\u001b[2K   \u001b[90m━━━━━━━━━━━━━━━━━━━━━━━━━━━━━━━━━━━━━━━━\u001b[0m \u001b[32m13.8/13.8 MB\u001b[0m \u001b[31m127.0 MB/s\u001b[0m eta \u001b[36m0:00:00\u001b[0m\n",
            "\u001b[?25hDownloading nvidia_cuda_nvrtc_cu12-12.4.127-py3-none-manylinux2014_x86_64.whl (24.6 MB)\n",
            "\u001b[2K   \u001b[90m━━━━━━━━━━━━━━━━━━━━━━━━━━━━━━━━━━━━━━━━\u001b[0m \u001b[32m24.6/24.6 MB\u001b[0m \u001b[31m91.1 MB/s\u001b[0m eta \u001b[36m0:00:00\u001b[0m\n",
            "\u001b[?25hDownloading nvidia_cuda_runtime_cu12-12.4.127-py3-none-manylinux2014_x86_64.whl (883 kB)\n",
            "\u001b[2K   \u001b[90m━━━━━━━━━━━━━━━━━━━━━━━━━━━━━━━━━━━━━━━━\u001b[0m \u001b[32m883.7/883.7 kB\u001b[0m \u001b[31m51.5 MB/s\u001b[0m eta \u001b[36m0:00:00\u001b[0m\n",
            "\u001b[?25hDownloading nvidia_cudnn_cu12-9.1.0.70-py3-none-manylinux2014_x86_64.whl (664.8 MB)\n",
            "\u001b[2K   \u001b[90m━━━━━━━━━━━━━━━━━━━━━━━━━━━━━━━━━━━━━━━━\u001b[0m \u001b[32m664.8/664.8 MB\u001b[0m \u001b[31m1.3 MB/s\u001b[0m eta \u001b[36m0:00:00\u001b[0m\n",
            "\u001b[?25hDownloading nvidia_cufft_cu12-11.2.1.3-py3-none-manylinux2014_x86_64.whl (211.5 MB)\n",
            "\u001b[2K   \u001b[90m━━━━━━━━━━━━━━━━━━━━━━━━━━━━━━━━━━━━━━━━\u001b[0m \u001b[32m211.5/211.5 MB\u001b[0m \u001b[31m5.5 MB/s\u001b[0m eta \u001b[36m0:00:00\u001b[0m\n",
            "\u001b[?25hDownloading nvidia_curand_cu12-10.3.5.147-py3-none-manylinux2014_x86_64.whl (56.3 MB)\n",
            "\u001b[2K   \u001b[90m━━━━━━━━━━━━━━━━━━━━━━━━━━━━━━━━━━━━━━━━\u001b[0m \u001b[32m56.3/56.3 MB\u001b[0m \u001b[31m12.1 MB/s\u001b[0m eta \u001b[36m0:00:00\u001b[0m\n",
            "\u001b[?25hDownloading nvidia_cusolver_cu12-11.6.1.9-py3-none-manylinux2014_x86_64.whl (127.9 MB)\n",
            "\u001b[2K   \u001b[90m━━━━━━━━━━━━━━━━━━━━━━━━━━━━━━━━━━━━━━━━\u001b[0m \u001b[32m127.9/127.9 MB\u001b[0m \u001b[31m7.6 MB/s\u001b[0m eta \u001b[36m0:00:00\u001b[0m\n",
            "\u001b[?25hDownloading nvidia_cusparse_cu12-12.3.1.170-py3-none-manylinux2014_x86_64.whl (207.5 MB)\n",
            "\u001b[2K   \u001b[90m━━━━━━━━━━━━━━━━━━━━━━━━━━━━━━━━━━━━━━━━\u001b[0m \u001b[32m207.5/207.5 MB\u001b[0m \u001b[31m5.6 MB/s\u001b[0m eta \u001b[36m0:00:00\u001b[0m\n",
            "\u001b[?25hDownloading nvidia_nvjitlink_cu12-12.4.127-py3-none-manylinux2014_x86_64.whl (21.1 MB)\n",
            "\u001b[2K   \u001b[90m━━━━━━━━━━━━━━━━━━━━━━━━━━━━━━━━━━━━━━━━\u001b[0m \u001b[32m21.1/21.1 MB\u001b[0m \u001b[31m104.2 MB/s\u001b[0m eta \u001b[36m0:00:00\u001b[0m\n",
            "\u001b[?25hInstalling collected packages: nvidia-nvjitlink-cu12, nvidia-curand-cu12, nvidia-cufft-cu12, nvidia-cuda-runtime-cu12, nvidia-cuda-nvrtc-cu12, nvidia-cuda-cupti-cu12, nvidia-cublas-cu12, nvidia-cusparse-cu12, nvidia-cudnn-cu12, nvidia-cusolver-cu12, bitsandbytes\n",
            "  Attempting uninstall: nvidia-nvjitlink-cu12\n",
            "    Found existing installation: nvidia-nvjitlink-cu12 12.5.82\n",
            "    Uninstalling nvidia-nvjitlink-cu12-12.5.82:\n",
            "      Successfully uninstalled nvidia-nvjitlink-cu12-12.5.82\n",
            "  Attempting uninstall: nvidia-curand-cu12\n",
            "    Found existing installation: nvidia-curand-cu12 10.3.6.82\n",
            "    Uninstalling nvidia-curand-cu12-10.3.6.82:\n",
            "      Successfully uninstalled nvidia-curand-cu12-10.3.6.82\n",
            "  Attempting uninstall: nvidia-cufft-cu12\n",
            "    Found existing installation: nvidia-cufft-cu12 11.2.3.61\n",
            "    Uninstalling nvidia-cufft-cu12-11.2.3.61:\n",
            "      Successfully uninstalled nvidia-cufft-cu12-11.2.3.61\n",
            "  Attempting uninstall: nvidia-cuda-runtime-cu12\n",
            "    Found existing installation: nvidia-cuda-runtime-cu12 12.5.82\n",
            "    Uninstalling nvidia-cuda-runtime-cu12-12.5.82:\n",
            "      Successfully uninstalled nvidia-cuda-runtime-cu12-12.5.82\n",
            "  Attempting uninstall: nvidia-cuda-nvrtc-cu12\n",
            "    Found existing installation: nvidia-cuda-nvrtc-cu12 12.5.82\n",
            "    Uninstalling nvidia-cuda-nvrtc-cu12-12.5.82:\n",
            "      Successfully uninstalled nvidia-cuda-nvrtc-cu12-12.5.82\n",
            "  Attempting uninstall: nvidia-cuda-cupti-cu12\n",
            "    Found existing installation: nvidia-cuda-cupti-cu12 12.5.82\n",
            "    Uninstalling nvidia-cuda-cupti-cu12-12.5.82:\n",
            "      Successfully uninstalled nvidia-cuda-cupti-cu12-12.5.82\n",
            "  Attempting uninstall: nvidia-cublas-cu12\n",
            "    Found existing installation: nvidia-cublas-cu12 12.5.3.2\n",
            "    Uninstalling nvidia-cublas-cu12-12.5.3.2:\n",
            "      Successfully uninstalled nvidia-cublas-cu12-12.5.3.2\n",
            "  Attempting uninstall: nvidia-cusparse-cu12\n",
            "    Found existing installation: nvidia-cusparse-cu12 12.5.1.3\n",
            "    Uninstalling nvidia-cusparse-cu12-12.5.1.3:\n",
            "      Successfully uninstalled nvidia-cusparse-cu12-12.5.1.3\n",
            "  Attempting uninstall: nvidia-cudnn-cu12\n",
            "    Found existing installation: nvidia-cudnn-cu12 9.3.0.75\n",
            "    Uninstalling nvidia-cudnn-cu12-9.3.0.75:\n",
            "      Successfully uninstalled nvidia-cudnn-cu12-9.3.0.75\n",
            "  Attempting uninstall: nvidia-cusolver-cu12\n",
            "    Found existing installation: nvidia-cusolver-cu12 11.6.3.83\n",
            "    Uninstalling nvidia-cusolver-cu12-11.6.3.83:\n",
            "      Successfully uninstalled nvidia-cusolver-cu12-11.6.3.83\n",
            "Successfully installed bitsandbytes-0.45.5 nvidia-cublas-cu12-12.4.5.8 nvidia-cuda-cupti-cu12-12.4.127 nvidia-cuda-nvrtc-cu12-12.4.127 nvidia-cuda-runtime-cu12-12.4.127 nvidia-cudnn-cu12-9.1.0.70 nvidia-cufft-cu12-11.2.1.3 nvidia-curand-cu12-10.3.5.147 nvidia-cusolver-cu12-11.6.1.9 nvidia-cusparse-cu12-12.3.1.170 nvidia-nvjitlink-cu12-12.4.127\n"
          ]
        }
      ]
    },
    {
      "cell_type": "code",
      "source": [
        "pip install transformers datasets peft\n"
      ],
      "metadata": {
        "colab": {
          "base_uri": "https://localhost:8080/"
        },
        "id": "w4yxWCe5rz2T",
        "outputId": "5170eb33-231c-41aa-c44b-6c0965c0c4f1"
      },
      "execution_count": null,
      "outputs": [
        {
          "output_type": "stream",
          "name": "stdout",
          "text": [
            "Requirement already satisfied: transformers in /usr/local/lib/python3.11/dist-packages (4.51.3)\n",
            "Collecting datasets\n",
            "  Downloading datasets-3.6.0-py3-none-any.whl.metadata (19 kB)\n",
            "Requirement already satisfied: peft in /usr/local/lib/python3.11/dist-packages (0.15.2)\n",
            "Requirement already satisfied: filelock in /usr/local/lib/python3.11/dist-packages (from transformers) (3.18.0)\n",
            "Requirement already satisfied: huggingface-hub<1.0,>=0.30.0 in /usr/local/lib/python3.11/dist-packages (from transformers) (0.30.2)\n",
            "Requirement already satisfied: numpy>=1.17 in /usr/local/lib/python3.11/dist-packages (from transformers) (2.0.2)\n",
            "Requirement already satisfied: packaging>=20.0 in /usr/local/lib/python3.11/dist-packages (from transformers) (24.2)\n",
            "Requirement already satisfied: pyyaml>=5.1 in /usr/local/lib/python3.11/dist-packages (from transformers) (6.0.2)\n",
            "Requirement already satisfied: regex!=2019.12.17 in /usr/local/lib/python3.11/dist-packages (from transformers) (2024.11.6)\n",
            "Requirement already satisfied: requests in /usr/local/lib/python3.11/dist-packages (from transformers) (2.32.3)\n",
            "Requirement already satisfied: tokenizers<0.22,>=0.21 in /usr/local/lib/python3.11/dist-packages (from transformers) (0.21.1)\n",
            "Requirement already satisfied: safetensors>=0.4.3 in /usr/local/lib/python3.11/dist-packages (from transformers) (0.5.3)\n",
            "Requirement already satisfied: tqdm>=4.27 in /usr/local/lib/python3.11/dist-packages (from transformers) (4.67.1)\n",
            "Requirement already satisfied: pyarrow>=15.0.0 in /usr/local/lib/python3.11/dist-packages (from datasets) (18.1.0)\n",
            "Collecting dill<0.3.9,>=0.3.0 (from datasets)\n",
            "  Downloading dill-0.3.8-py3-none-any.whl.metadata (10 kB)\n",
            "Requirement already satisfied: pandas in /usr/local/lib/python3.11/dist-packages (from datasets) (2.2.2)\n",
            "Collecting xxhash (from datasets)\n",
            "  Downloading xxhash-3.5.0-cp311-cp311-manylinux_2_17_x86_64.manylinux2014_x86_64.whl.metadata (12 kB)\n",
            "Collecting multiprocess<0.70.17 (from datasets)\n",
            "  Downloading multiprocess-0.70.16-py311-none-any.whl.metadata (7.2 kB)\n",
            "Collecting fsspec<=2025.3.0,>=2023.1.0 (from fsspec[http]<=2025.3.0,>=2023.1.0->datasets)\n",
            "  Downloading fsspec-2025.3.0-py3-none-any.whl.metadata (11 kB)\n",
            "Requirement already satisfied: psutil in /usr/local/lib/python3.11/dist-packages (from peft) (5.9.5)\n",
            "Requirement already satisfied: torch>=1.13.0 in /usr/local/lib/python3.11/dist-packages (from peft) (2.6.0+cu124)\n",
            "Requirement already satisfied: accelerate>=0.21.0 in /usr/local/lib/python3.11/dist-packages (from peft) (1.6.0)\n",
            "Requirement already satisfied: aiohttp!=4.0.0a0,!=4.0.0a1 in /usr/local/lib/python3.11/dist-packages (from fsspec[http]<=2025.3.0,>=2023.1.0->datasets) (3.11.15)\n",
            "Requirement already satisfied: typing-extensions>=3.7.4.3 in /usr/local/lib/python3.11/dist-packages (from huggingface-hub<1.0,>=0.30.0->transformers) (4.13.2)\n",
            "Requirement already satisfied: charset-normalizer<4,>=2 in /usr/local/lib/python3.11/dist-packages (from requests->transformers) (3.4.1)\n",
            "Requirement already satisfied: idna<4,>=2.5 in /usr/local/lib/python3.11/dist-packages (from requests->transformers) (3.10)\n",
            "Requirement already satisfied: urllib3<3,>=1.21.1 in /usr/local/lib/python3.11/dist-packages (from requests->transformers) (2.4.0)\n",
            "Requirement already satisfied: certifi>=2017.4.17 in /usr/local/lib/python3.11/dist-packages (from requests->transformers) (2025.4.26)\n",
            "Requirement already satisfied: networkx in /usr/local/lib/python3.11/dist-packages (from torch>=1.13.0->peft) (3.4.2)\n",
            "Requirement already satisfied: jinja2 in /usr/local/lib/python3.11/dist-packages (from torch>=1.13.0->peft) (3.1.6)\n",
            "Requirement already satisfied: nvidia-cuda-nvrtc-cu12==12.4.127 in /usr/local/lib/python3.11/dist-packages (from torch>=1.13.0->peft) (12.4.127)\n",
            "Requirement already satisfied: nvidia-cuda-runtime-cu12==12.4.127 in /usr/local/lib/python3.11/dist-packages (from torch>=1.13.0->peft) (12.4.127)\n",
            "Requirement already satisfied: nvidia-cuda-cupti-cu12==12.4.127 in /usr/local/lib/python3.11/dist-packages (from torch>=1.13.0->peft) (12.4.127)\n",
            "Requirement already satisfied: nvidia-cudnn-cu12==9.1.0.70 in /usr/local/lib/python3.11/dist-packages (from torch>=1.13.0->peft) (9.1.0.70)\n",
            "Requirement already satisfied: nvidia-cublas-cu12==12.4.5.8 in /usr/local/lib/python3.11/dist-packages (from torch>=1.13.0->peft) (12.4.5.8)\n",
            "Requirement already satisfied: nvidia-cufft-cu12==11.2.1.3 in /usr/local/lib/python3.11/dist-packages (from torch>=1.13.0->peft) (11.2.1.3)\n",
            "Requirement already satisfied: nvidia-curand-cu12==10.3.5.147 in /usr/local/lib/python3.11/dist-packages (from torch>=1.13.0->peft) (10.3.5.147)\n",
            "Requirement already satisfied: nvidia-cusolver-cu12==11.6.1.9 in /usr/local/lib/python3.11/dist-packages (from torch>=1.13.0->peft) (11.6.1.9)\n",
            "Requirement already satisfied: nvidia-cusparse-cu12==12.3.1.170 in /usr/local/lib/python3.11/dist-packages (from torch>=1.13.0->peft) (12.3.1.170)\n",
            "Requirement already satisfied: nvidia-cusparselt-cu12==0.6.2 in /usr/local/lib/python3.11/dist-packages (from torch>=1.13.0->peft) (0.6.2)\n",
            "Requirement already satisfied: nvidia-nccl-cu12==2.21.5 in /usr/local/lib/python3.11/dist-packages (from torch>=1.13.0->peft) (2.21.5)\n",
            "Requirement already satisfied: nvidia-nvtx-cu12==12.4.127 in /usr/local/lib/python3.11/dist-packages (from torch>=1.13.0->peft) (12.4.127)\n",
            "Requirement already satisfied: nvidia-nvjitlink-cu12==12.4.127 in /usr/local/lib/python3.11/dist-packages (from torch>=1.13.0->peft) (12.4.127)\n",
            "Requirement already satisfied: triton==3.2.0 in /usr/local/lib/python3.11/dist-packages (from torch>=1.13.0->peft) (3.2.0)\n",
            "Requirement already satisfied: sympy==1.13.1 in /usr/local/lib/python3.11/dist-packages (from torch>=1.13.0->peft) (1.13.1)\n",
            "Requirement already satisfied: mpmath<1.4,>=1.1.0 in /usr/local/lib/python3.11/dist-packages (from sympy==1.13.1->torch>=1.13.0->peft) (1.3.0)\n",
            "Requirement already satisfied: python-dateutil>=2.8.2 in /usr/local/lib/python3.11/dist-packages (from pandas->datasets) (2.9.0.post0)\n",
            "Requirement already satisfied: pytz>=2020.1 in /usr/local/lib/python3.11/dist-packages (from pandas->datasets) (2025.2)\n",
            "Requirement already satisfied: tzdata>=2022.7 in /usr/local/lib/python3.11/dist-packages (from pandas->datasets) (2025.2)\n",
            "Requirement already satisfied: aiohappyeyeballs>=2.3.0 in /usr/local/lib/python3.11/dist-packages (from aiohttp!=4.0.0a0,!=4.0.0a1->fsspec[http]<=2025.3.0,>=2023.1.0->datasets) (2.6.1)\n",
            "Requirement already satisfied: aiosignal>=1.1.2 in /usr/local/lib/python3.11/dist-packages (from aiohttp!=4.0.0a0,!=4.0.0a1->fsspec[http]<=2025.3.0,>=2023.1.0->datasets) (1.3.2)\n",
            "Requirement already satisfied: attrs>=17.3.0 in /usr/local/lib/python3.11/dist-packages (from aiohttp!=4.0.0a0,!=4.0.0a1->fsspec[http]<=2025.3.0,>=2023.1.0->datasets) (25.3.0)\n",
            "Requirement already satisfied: frozenlist>=1.1.1 in /usr/local/lib/python3.11/dist-packages (from aiohttp!=4.0.0a0,!=4.0.0a1->fsspec[http]<=2025.3.0,>=2023.1.0->datasets) (1.6.0)\n",
            "Requirement already satisfied: multidict<7.0,>=4.5 in /usr/local/lib/python3.11/dist-packages (from aiohttp!=4.0.0a0,!=4.0.0a1->fsspec[http]<=2025.3.0,>=2023.1.0->datasets) (6.4.3)\n",
            "Requirement already satisfied: propcache>=0.2.0 in /usr/local/lib/python3.11/dist-packages (from aiohttp!=4.0.0a0,!=4.0.0a1->fsspec[http]<=2025.3.0,>=2023.1.0->datasets) (0.3.1)\n",
            "Requirement already satisfied: yarl<2.0,>=1.17.0 in /usr/local/lib/python3.11/dist-packages (from aiohttp!=4.0.0a0,!=4.0.0a1->fsspec[http]<=2025.3.0,>=2023.1.0->datasets) (1.20.0)\n",
            "Requirement already satisfied: six>=1.5 in /usr/local/lib/python3.11/dist-packages (from python-dateutil>=2.8.2->pandas->datasets) (1.17.0)\n",
            "Requirement already satisfied: MarkupSafe>=2.0 in /usr/local/lib/python3.11/dist-packages (from jinja2->torch>=1.13.0->peft) (3.0.2)\n",
            "Downloading datasets-3.6.0-py3-none-any.whl (491 kB)\n",
            "\u001b[2K   \u001b[90m━━━━━━━━━━━━━━━━━━━━━━━━━━━━━━━━━━━━━━━━\u001b[0m \u001b[32m491.5/491.5 kB\u001b[0m \u001b[31m21.6 MB/s\u001b[0m eta \u001b[36m0:00:00\u001b[0m\n",
            "\u001b[?25hDownloading dill-0.3.8-py3-none-any.whl (116 kB)\n",
            "\u001b[2K   \u001b[90m━━━━━━━━━━━━━━━━━━━━━━━━━━━━━━━━━━━━━━━━\u001b[0m \u001b[32m116.3/116.3 kB\u001b[0m \u001b[31m11.9 MB/s\u001b[0m eta \u001b[36m0:00:00\u001b[0m\n",
            "\u001b[?25hDownloading fsspec-2025.3.0-py3-none-any.whl (193 kB)\n",
            "\u001b[2K   \u001b[90m━━━━━━━━━━━━━━━━━━━━━━━━━━━━━━━━━━━━━━━━\u001b[0m \u001b[32m193.6/193.6 kB\u001b[0m \u001b[31m12.7 MB/s\u001b[0m eta \u001b[36m0:00:00\u001b[0m\n",
            "\u001b[?25hDownloading multiprocess-0.70.16-py311-none-any.whl (143 kB)\n",
            "\u001b[2K   \u001b[90m━━━━━━━━━━━━━━━━━━━━━━━━━━━━━━━━━━━━━━━━\u001b[0m \u001b[32m143.5/143.5 kB\u001b[0m \u001b[31m14.5 MB/s\u001b[0m eta \u001b[36m0:00:00\u001b[0m\n",
            "\u001b[?25hDownloading xxhash-3.5.0-cp311-cp311-manylinux_2_17_x86_64.manylinux2014_x86_64.whl (194 kB)\n",
            "\u001b[2K   \u001b[90m━━━━━━━━━━━━━━━━━━━━━━━━━━━━━━━━━━━━━━━━\u001b[0m \u001b[32m194.8/194.8 kB\u001b[0m \u001b[31m18.3 MB/s\u001b[0m eta \u001b[36m0:00:00\u001b[0m\n",
            "\u001b[?25hInstalling collected packages: xxhash, fsspec, dill, multiprocess, datasets\n",
            "  Attempting uninstall: fsspec\n",
            "    Found existing installation: fsspec 2025.3.2\n",
            "    Uninstalling fsspec-2025.3.2:\n",
            "      Successfully uninstalled fsspec-2025.3.2\n",
            "\u001b[31mERROR: pip's dependency resolver does not currently take into account all the packages that are installed. This behaviour is the source of the following dependency conflicts.\n",
            "gcsfs 2025.3.2 requires fsspec==2025.3.2, but you have fsspec 2025.3.0 which is incompatible.\u001b[0m\u001b[31m\n",
            "\u001b[0mSuccessfully installed datasets-3.6.0 dill-0.3.8 fsspec-2025.3.0 multiprocess-0.70.16 xxhash-3.5.0\n"
          ]
        }
      ]
    },
    {
      "cell_type": "markdown",
      "source": [
        "#### **Loading Dataset & preprocessing**"
      ],
      "metadata": {
        "id": "sbUIgYIj90DZ"
      }
    },
    {
      "cell_type": "code",
      "source": [
        "from sklearn.preprocessing import LabelEncoder\n",
        "import pandas as pd\n",
        "\n",
        "# Load the CSV file\n",
        "df = pd.read_csv('/content/mtsamples.csv')\n",
        "\n",
        "import pandas as pd\n",
        "\n",
        "top_5_labels = df['medical_specialty'].value_counts().nlargest(5).index\n",
        "filtered_df = df[df['medical_specialty'].isin(top_5_labels)].sample(frac=1, random_state=42).reset_index(drop=True)\n",
        "\n",
        "\n",
        "filtered_df =  filtered_df[['transcription', 'medical_specialty']]\n"
      ],
      "metadata": {
        "id": "9s5-MOcFfF-u"
      },
      "execution_count": null,
      "outputs": []
    },
    {
      "cell_type": "code",
      "source": [
        "filtered_df.isna().sum()"
      ],
      "metadata": {
        "colab": {
          "base_uri": "https://localhost:8080/",
          "height": 147
        },
        "id": "3eX0fbOiEE_T",
        "outputId": "5a8cd1a8-b35b-433e-9785-3be471d42fc1"
      },
      "execution_count": null,
      "outputs": [
        {
          "output_type": "execute_result",
          "data": {
            "text/plain": [
              "transcription        16\n",
              "medical_specialty     0\n",
              "dtype: int64"
            ],
            "text/html": [
              "<div>\n",
              "<style scoped>\n",
              "    .dataframe tbody tr th:only-of-type {\n",
              "        vertical-align: middle;\n",
              "    }\n",
              "\n",
              "    .dataframe tbody tr th {\n",
              "        vertical-align: top;\n",
              "    }\n",
              "\n",
              "    .dataframe thead th {\n",
              "        text-align: right;\n",
              "    }\n",
              "</style>\n",
              "<table border=\"1\" class=\"dataframe\">\n",
              "  <thead>\n",
              "    <tr style=\"text-align: right;\">\n",
              "      <th></th>\n",
              "      <th>0</th>\n",
              "    </tr>\n",
              "  </thead>\n",
              "  <tbody>\n",
              "    <tr>\n",
              "      <th>transcription</th>\n",
              "      <td>16</td>\n",
              "    </tr>\n",
              "    <tr>\n",
              "      <th>medical_specialty</th>\n",
              "      <td>0</td>\n",
              "    </tr>\n",
              "  </tbody>\n",
              "</table>\n",
              "</div><br><label><b>dtype:</b> int64</label>"
            ]
          },
          "metadata": {},
          "execution_count": 3
        }
      ]
    },
    {
      "cell_type": "code",
      "source": [
        "filtered_df = filtered_df.dropna()"
      ],
      "metadata": {
        "id": "jUu5l_F-EDNp"
      },
      "execution_count": null,
      "outputs": []
    },
    {
      "cell_type": "code",
      "source": [
        "# Separate the text and labels\n",
        "texts = filtered_df['transcription'].values\n",
        "labels = filtered_df['medical_specialty'].values\n"
      ],
      "metadata": {
        "id": "tA4aE59JD6H3"
      },
      "execution_count": null,
      "outputs": []
    },
    {
      "cell_type": "code",
      "source": [
        "print(len(texts),len(labels))"
      ],
      "metadata": {
        "colab": {
          "base_uri": "https://localhost:8080/"
        },
        "id": "wJOGKH3rDvna",
        "outputId": "e83d20a5-6c64-4e9f-86bd-2ae520dad42e"
      },
      "execution_count": null,
      "outputs": [
        {
          "output_type": "stream",
          "name": "stdout",
          "text": [
            "2603 2603\n"
          ]
        }
      ]
    },
    {
      "cell_type": "code",
      "source": [
        "from sklearn.preprocessing import LabelEncoder\n",
        "\n",
        "# Encode the labels into integers\n",
        "label_encoder = LabelEncoder()\n",
        "encoded_labels = label_encoder.fit_transform(labels)"
      ],
      "metadata": {
        "id": "rH1W4V6G-Bc2"
      },
      "execution_count": null,
      "outputs": []
    },
    {
      "cell_type": "code",
      "source": [
        "print(len(encoded_labels))"
      ],
      "metadata": {
        "colab": {
          "base_uri": "https://localhost:8080/"
        },
        "id": "AztuhhhaEF8c",
        "outputId": "61de01ae-ba53-4616-993c-0bdbc242e09d"
      },
      "execution_count": null,
      "outputs": [
        {
          "output_type": "stream",
          "name": "stdout",
          "text": [
            "2603\n"
          ]
        }
      ]
    },
    {
      "cell_type": "markdown",
      "source": [
        "**Dataset Handling (Tokenization )**"
      ],
      "metadata": {
        "id": "TGAq9-rY_viJ"
      }
    },
    {
      "cell_type": "code",
      "source": [
        "import pandas as pd\n",
        "from datasets import Dataset\n",
        "from transformers import AutoTokenizer, AutoModelForCausalLM, BitsAndBytesConfig, TrainingArguments, Trainer, DataCollatorForLanguageModeling\n",
        "from peft import LoraConfig, get_peft_model, prepare_model_for_kbit_training\n"
      ],
      "metadata": {
        "id": "gsU-6DvqMuCB"
      },
      "execution_count": null,
      "outputs": []
    },
    {
      "cell_type": "code",
      "source": [
        "# Ensure that 'texts' is a list of strings\n",
        "from transformers import AutoTokenizer\n",
        "\n",
        "texts = filtered_df['transcription'].astype(str).tolist()\n",
        "\n",
        "model_name =  \"TinyLLaMA/TinyLLaMA-1.1B-Chat-v1.0\"\n",
        "\n",
        "\n",
        "# Load tokenizer and model with quantization config\n",
        "tokenizer = AutoTokenizer.from_pretrained(model_name)\n",
        "\n",
        "tokenizer.pad_token = tokenizer.eos_token\n",
        "\n",
        "# Tokenize the text data\n",
        "encoding = tokenizer(texts, truncation=True, padding=True, max_length=512)\n",
        "\n",
        "# Check the tokenized input\n",
        "print(encoding['input_ids'][:2])  # Print the first two tokenized inputs\n"
      ],
      "metadata": {
        "colab": {
          "base_uri": "https://localhost:8080/"
        },
        "id": "KDS1DkRoN1BI",
        "outputId": "f2416628-5f84-4c50-8374-d2e8da650e8e"
      },
      "execution_count": null,
      "outputs": [
        {
          "output_type": "stream",
          "name": "stderr",
          "text": [
            "/usr/local/lib/python3.11/dist-packages/huggingface_hub/utils/_auth.py:94: UserWarning: \n",
            "The secret `HF_TOKEN` does not exist in your Colab secrets.\n",
            "To authenticate with the Hugging Face Hub, create a token in your settings tab (https://huggingface.co/settings/tokens), set it as secret in your Google Colab and restart your session.\n",
            "You will be able to reuse this secret in all of your notebooks.\n",
            "Please note that authentication is recommended but still optional to access public models or datasets.\n",
            "  warnings.warn(\n"
          ]
        },
        {
          "output_type": "stream",
          "name": "stdout",
          "text": [
            "[[1, 5195, 29909, 3094, 15842, 478, 3235, 1806, 29901, 1919, 450, 16500, 338, 263, 29871, 29955, 29946, 29899, 6360, 29899, 1025, 6114, 1058, 22981, 363, 452, 2192, 1188, 936, 8799, 362, 12992, 491, 4942, 29889, 1060, 29889, 29871, 2296, 338, 21302, 304, 278, 28573, 491, 902, 10216, 322, 4208, 896, 2367, 902, 4955, 1696, 29950, 9047, 18929, 8079, 349, 15989, 3919, 306, 2208, 8186, 1799, 29901, 1919, 450, 16500, 338, 263, 12355, 873, 29871, 29955, 29946, 29899, 6360, 29899, 1025, 6114, 1058, 22981, 411, 1950, 16157, 17546, 346, 17206, 375, 29889, 29871, 3951, 728, 338, 902, 7531, 4086, 29892, 541, 1183, 756, 1063, 297, 278, 3303, 3900, 363, 1784, 1784, 2440, 322, 7726, 29879, 1652, 8122, 4223, 29892, 408, 947, 902, 10216, 1696, 3047, 3390, 304, 902, 22049, 322, 17346, 29892, 1183, 5922, 376, 29902, 1348, 306, 6686, 2090, 1460, 1213, 29871, 2439, 10216, 756, 10548, 975, 278, 1833, 4832, 7378, 470, 577, 393, 1183, 756, 2545, 4858, 287, 902, 2967, 322, 4953, 901, 6258, 28605, 297, 902, 4940, 545, 29889, 29871, 2439, 17346, 756, 884, 22020, 4845, 1312, 1316, 393, 1183, 13672, 6023, 267, 14603, 322, 15252, 17252, 304, 16160, 675, 8735, 29889, 29871, 2296, 756, 14656, 1886, 3262, 701, 373, 304, 2712, 763, 263, 6287, 1363, 310, 445, 527, 5521, 749, 29889, 29871, 2296, 947, 451, 10982, 16976, 29889, 29871, 2439, 10216, 756, 10548, 777, 5232, 292, 310, 902, 6210, 29889, 29871, 2296, 947, 451, 817, 304, 671, 385, 6985, 573, 4742, 29889, 29871, 2296, 756, 14882, 1848, 14656, 2805, 297, 322, 714, 310, 263, 1559, 29889, 29871, 3599, 2705, 1183, 756, 750, 901, 17091, 20074, 29889, 29871, 512, 4779, 310, 29871, 29906, 29900, 29900, 29955, 29892, 1183, 8379, 746, 1183, 471, 22049, 304, 278, 6592, 8345, 322, 14455, 902, 281, 2021, 29889, 29871, 4001, 393, 931, 29892, 1183, 756, 451, 750, 738, 11176, 14703, 5716, 3367, 567, 29892, 541, 1183, 756, 750, 916, 20074, 1696, 3047, 3390, 304, 902, 12580, 295, 322, 1999, 328, 672, 29892, 1183, 756, 694, 5626, 322, 694, 7458, 411, 10868, 470, 5065, 14703, 1696, 1576, 16500, 947, 451, 505, 2343, 14520, 1696, 3047, 3390, 304, 7291, 322, 3370, 29892, 1183, 5922, 1183, 338, 1603, 2221, 304, 5146, 278, 289, 6090, 29892, 541, 975, 278, 1833, 2846, 7378, 1183, 5922, 29892, 376, 29902, 437, 451, 4459, 408, 15040, 408, 306, 1304, 304, 367, 1213, 29871, 2296, 23880, 393, 902, 7291, 756, 5232, 287, 1623, 29889, 29871, 2439, 10216, 5922, 393, 540, 756, 10548, 29892, 1183, 674, 23025, 1369, 263, 10541, 322, 769, 451, 1073, 825, 3838, 304, 671, 408, 1183, 338, 3133, 292, 1696, 1576, 16500, 756, 451, 750, 7458, 411, 5222, 4338, 29889, 29871, 2296, 756, 750, 4940, 23238, 310, 4837, 5973, 29892, 541, 451, 10325, 1696, 7228, 1254, 341, 3352, 2965, 1964, 379, 9047, 18929, 29901, 29871, 1919, 10140, 928, 424, 363, 7498, 10700, 2673, 24876, 2662, 297, 29871, 29906, 29900, 29900, 29953, 29892, 337, 1579, 1314, 297, 29871, 29906, 29900, 29900, 29900, 29892, 1663, 290, 3915, 29892, 541, 694, 5807, 8253, 470, 3095, 14011, 29889, 29871, 2296, 756, 1063, 373, 15145, 819], [1, 323, 1806, 1307, 8079, 6418, 1001, 8098, 29901, 29892, 29871, 20347, 1008, 284, 1095, 359, 9708, 293, 23203, 284, 528, 1657, 26554, 322, 263, 1320, 284, 528, 1657, 26554, 1696, 22255, 28541, 29903, 15842, 6418, 1001, 8098, 29901, 29892, 29871, 12252, 14520, 29892, 2989, 1014, 1356, 1971, 284, 3268, 1696, 15094, 4590, 1001, 1299, 18474, 22471, 10051, 29940, 3267, 3235, 29901, 1919, 14866, 277, 9712, 2200, 280, 22898, 4871, 1696, 5438, 4590, 1001, 1299, 18474, 22471, 10051, 29940, 3267, 3235, 29901, 1919, 14866, 277, 9712, 2200, 280, 22898, 4871, 1696, 29943, 22255, 4214, 29903, 29901, 29892, 29871, 3189, 2156, 362, 310, 9712, 2200, 793, 2750, 23203, 284, 1095, 310, 9712, 2200, 1070, 274, 493, 1308, 1696, 2190, 29923, 1254, 29950, 2890, 10764, 29901, 1919, 4593, 1095, 327, 19690, 284, 260, 4003, 385, 342, 13244, 423, 1696, 2287, 29963, 2965, 2890, 29901, 1919, 319, 315, 397, 1171, 379, 557, 326, 1824, 29885, 519, 659, 345, 411, 3371, 1217, 29891, 9712, 2200, 1070, 274, 493, 1308, 29892, 263, 29871, 29900, 29914, 29906, 29900, 410, 29954, 7520, 659, 345, 411, 263, 528, 1657, 6985, 310, 29871, 29906, 29900, 7477, 14581, 1492, 29899, 574, 839, 1826, 2801, 29892, 322, 263, 1652, 21616, 620, 261, 7869, 1696, 29933, 3960, 29638, 405, 1718, 29934, 1299, 18474, 8079, 6418, 1001, 1299, 18474, 13756, 29907, 3352, 11499, 29901, 29892, 29871, 2860, 5119, 3832, 2498, 1095, 327, 19690, 284, 260, 4003, 385, 342, 13244, 423, 471, 4113, 1531, 287, 29892, 278, 16500, 471, 2602, 287, 373, 278, 13598, 1591, 297, 278, 544, 650, 2602, 411, 278, 2343, 4934, 373, 263, 4964, 1701, 314, 7164, 29889, 29871, 450, 12954, 7334, 2410, 4038, 471, 528, 3496, 13181, 1008, 635, 322, 769, 278, 10161, 310, 278, 7536, 8716, 29886, 297, 3476, 1080, 892, 297, 1777, 509, 630, 411, 29871, 29900, 29889, 29906, 29945, 29995, 1085, 1113, 457, 411, 29871, 29896, 29901, 29906, 29900, 29900, 29892, 29900, 29900, 29900, 9358, 457, 24588, 457, 1156, 26529, 758, 3262, 322, 270, 2390, 292, 29889, 29871, 9134, 501, 29899, 845, 10501, 8716, 29886, 297, 3476, 1080, 892, 6496, 14060, 292, 1716, 278, 2175, 322, 278, 1492, 9712, 2200, 1070, 274, 493, 2699, 408, 1532, 408, 278, 2030, 4482, 12959, 620, 261, 7869, 29892, 607, 1795, 505, 1063, 8236, 304, 278, 1302, 2156, 362, 310, 278, 9712, 2200, 793, 29889, 29871, 450, 16500, 884, 750, 263, 1492, 1014, 1356, 1971, 284, 316, 2590, 29892, 607, 471, 2989, 758, 3372, 6703, 29889, 29871, 450, 4152, 2030, 7132, 2389, 471, 29340, 2954, 714, 29889, 29871, 1334, 769, 5700, 1716, 278, 9712, 2200, 1070, 274, 493, 2699, 322, 26130, 963, 411, 269, 329, 1973, 577, 393, 903, 14365, 29918, 1033, 367, 15478, 29889, 29871, 2688, 892, 1716, 1663, 6021, 29889, 29871, 1939, 24860, 316, 1182, 275, 892, 3595, 29889, 29871, 2860, 11077, 278, 9712, 2200, 1070, 274, 493, 2699, 29892, 278, 2030, 22330, 29879, 892, 1663, 6021, 322, 591, 1033, 1074, 988, 727, 471, 1302, 2156, 362, 310, 278, 9712, 2200, 793, 2750, 278, 9712, 2200, 1070, 274, 493, 1308, 29889, 29871, 1551, 278, 1492, 2625, 29892, 591, 11467, 304, 4635]]\n"
          ]
        }
      ]
    },
    {
      "cell_type": "code",
      "source": [
        "# Check the encoded labels\n",
        "print(encoded_labels[:5])  # Print the first five encoded labels\n"
      ],
      "metadata": {
        "colab": {
          "base_uri": "https://localhost:8080/"
        },
        "id": "D0eYgUjnPMBS",
        "outputId": "f95d5f1d-dce4-4eec-a8a3-49a85628508c"
      },
      "execution_count": null,
      "outputs": [
        {
          "output_type": "stream",
          "name": "stdout",
          "text": [
            "[1 4 3 2 0]\n"
          ]
        }
      ]
    },
    {
      "cell_type": "code",
      "source": [
        "print(label_encoder.classes_)  # Print the classes\n"
      ],
      "metadata": {
        "colab": {
          "base_uri": "https://localhost:8080/"
        },
        "id": "uPZtxSAQPOKC",
        "outputId": "1f19073d-cd87-405e-94bb-65066643a172"
      },
      "execution_count": null,
      "outputs": [
        {
          "output_type": "stream",
          "name": "stdout",
          "text": [
            "[' Cardiovascular / Pulmonary' ' Consult - History and Phy.' ' Orthopedic'\n",
            " ' Radiology' ' Surgery']\n"
          ]
        }
      ]
    },
    {
      "cell_type": "code",
      "source": [
        "from sklearn.model_selection import train_test_split\n",
        "\n",
        "# First, split the dataset into train and temporary (80% train, 20% temp)\n",
        "train_texts, temp_texts, train_labels, temp_labels = train_test_split(texts, encoded_labels, test_size=0.2, random_state=42)\n",
        "\n",
        "# Then, split the temporary set into validation and test sets (50% validation, 50% test)\n",
        "val_texts, test_texts, val_labels, test_labels = train_test_split(temp_texts, temp_labels, test_size=0.5, random_state=42)\n",
        "\n",
        "# Tokenize the train, validation, and test texts\n",
        "train_encodings = tokenizer(list(train_texts), truncation=True, padding=True, max_length=512)\n",
        "val_encodings = tokenizer(list(val_texts), truncation=True, padding=True, max_length=512)\n",
        "test_encodings = tokenizer(list(test_texts), truncation=True, padding=True, max_length=512)\n",
        "\n",
        "# Check the tokenized inputs\n",
        "print(f\"Train encodings: {train_encodings['input_ids'][:2]}\")\n",
        "print(f\"Validation encodings: {val_encodings['input_ids'][:2]}\")\n",
        "print(f\"Test encodings: {test_encodings['input_ids'][:2]}\")\n"
      ],
      "metadata": {
        "colab": {
          "base_uri": "https://localhost:8080/"
        },
        "id": "Ty19InedPQoy",
        "outputId": "ae401978-153d-43dc-ff93-b5dea35308f3"
      },
      "execution_count": null,
      "outputs": [
        {
          "output_type": "stream",
          "name": "stdout",
          "text": [
            "Train encodings: [[1, 379, 9047, 18929, 5300, 5195, 29909, 3094, 15842, 8707, 29903, 8647, 8098, 29901, 29892, 1152, 17983, 310, 445, 16500, 363, 8104, 23900, 4315, 292, 1696, 29950, 9047, 18929, 8079, 349, 15989, 3919, 306, 2208, 8186, 1799, 29901, 29892, 3237, 29889, 319, 338, 263, 29871, 29945, 29941, 29899, 6360, 29899, 1025, 16615, 1058, 471, 12992, 363, 8104, 23900, 4315, 292, 29889, 29871, 450, 16500, 1497, 393, 540, 23025, 4947, 777, 23819, 380, 8789, 29889, 29871, 5901, 1135, 393, 29892, 727, 526, 694, 916, 16083, 4828, 29889, 1919, 7228, 1254, 341, 3352, 2965, 1964, 379, 9047, 18929, 29901, 29892, 450, 16500, 947, 451, 505, 738, 10676, 16083, 4828, 472, 599, 29889, 29871, 940, 972, 583, 738, 7498, 10700, 2673, 29892, 652, 370, 10778, 29892, 470, 738, 916, 4828, 29889, 29871, 940, 947, 451, 2125, 738, 13589, 800, 1696, 7228, 1254, 317, 4574, 29954, 2965, 1964, 379, 9047, 18929, 29901, 1919, 29903, 2007, 708, 363, 29668, 630, 8281, 284, 4843, 398, 297, 29871, 29896, 29929, 29929, 29953, 1696, 9818, 1001, 29954, 29059, 29901, 29892, 1939, 2998, 15721, 599, 15064, 583, 1696, 6156, 8426, 1964, 379, 9047, 18929, 29901, 1919, 25125, 451, 25158, 29892, 541, 13748, 29879, 23025, 363, 278, 1833, 5320, 2440, 1696, 4519, 29924, 6227, 29979, 379, 9047, 18929, 29901, 29892, 1670, 338, 694, 4955, 310, 738, 8104, 23900, 297, 278, 3942, 1696, 1525, 29963, 8673, 29956, 8079, 28962, 1254, 29923, 4345, 29901, 29892, 3384, 583, 738, 7282, 652, 2749, 354, 29874, 29889, 29871, 18512, 540, 4947, 777, 23819, 380, 8789, 29889, 29871, 16117, 7002, 635, 727, 338, 777, 1040, 666, 362, 29889, 29871, 6639, 3775, 1208, 12347, 756, 451, 3939, 29889, 29871, 1670, 338, 694, 10416, 297, 380, 1507, 470, 286, 1682, 375, 297, 380, 1507, 29889, 29871, 1939, 7688, 6410, 29889, 29871, 2401, 300, 568, 338, 1781, 29889, 29871, 1939, 302, 1071, 29874, 29892, 3961, 11407, 29892, 470, 14656, 297, 2381, 9536, 292, 29889, 29871, 11699, 14882, 1848, 5192, 18712, 1696, 19689, 21554, 2965, 1964, 8528, 5194, 1177, 8098, 29901, 29892, 450, 16500, 338, 6655, 322, 7769, 287, 921, 29941, 29889, 29871, 478, 2410, 18906, 29901, 1334, 523, 338, 29871, 29906, 29896, 29946, 24261, 29889, 29871, 25122, 12959, 338, 29871, 29896, 29896, 29896, 29914, 29955, 29900, 29889, 29871, 349, 19994, 338, 29871, 29953, 29929, 639, 11015, 29889, 29871, 2538, 29886, 381, 7606, 6554, 338, 29871, 29896, 29947, 29889, 29871, 17714, 3919, 29901, 12610, 1230, 29889, 29871, 2448, 384, 29901, 9179, 280, 29889, 29871, 1670, 338, 694, 13874, 456, 387, 14997, 29889, 29871, 9160, 29875, 586, 6151, 1070, 29901, 9134, 5192, 10083, 526, 6091, 29889, 29871, 7861, 29265, 338, 4943, 29889, 29871, 1939, 25234, 332, 29889, 29871, 365, 3085, 29901, 17732, 304, 639, 17348, 322, 1770, 29883, 499, 362, 29889, 29871, 17860, 2770, 29901, 1105, 615, 322, 302, 609, 1581, 29889, 29871, 1939, 23063, 7091, 29889, 29871, 13432, 295, 10083, 526, 6091, 29889, 29871, 7338, 1745, 1907, 29901, 12362, 310, 738, 1226, 2603, 1696, 29902, 3580, 1525, 13507, 29901, 1919, 24254, 457, 784, 487, 312, 284, 23900, 4315, 292, 1696, 1525, 3217, 7428, 11794, 8098, 29903, 29901, 29892, 1530, 265, 359, 8552], [1, 349, 1525, 4590, 1001, 1299, 18474, 22471, 10051, 29940, 3267, 3235, 29901, 1919, 9034, 9696, 282, 29765, 6405, 29892, 1492, 7568, 658, 915, 310, 278, 13030, 29892, 1950, 4158, 1696, 5438, 4590, 1001, 1299, 18474, 22471, 10051, 29940, 3267, 3235, 29901, 1919, 9034, 9696, 282, 29765, 6405, 29892, 1492, 7568, 658, 915, 310, 278, 13030, 29892, 1950, 4158, 1696, 8618, 29907, 3352, 11499, 29901, 29892, 29871, 14165, 18688, 8552, 411, 1506, 1878, 4768, 3554, 583, 1696, 2287, 7187, 24290, 2725, 8079, 13756, 29907, 3352, 11499, 29901, 1919, 2860, 4017, 292, 385, 23388, 20218, 29892, 278, 16500, 471, 4586, 304, 278, 13598, 5716, 988, 540, 1090, 29893, 296, 263, 2498, 1095, 327, 19690, 284, 385, 342, 13244, 423, 29889, 29871, 319, 931, 29899, 449, 1889, 750, 1063, 5643, 322, 769, 278, 25706, 12246, 18688, 4338, 471, 15478, 1549, 278, 1095, 327, 19690, 284, 260, 4003, 1156, 29871, 29906, 21759, 310, 29871, 29946, 29995, 17343, 6400, 457, 750, 1063, 3041, 3880, 964, 278, 1095, 327, 19690, 284, 260, 4003, 29889, 29871, 3824, 278, 1020, 1173, 29874, 322, 278, 1559, 1099, 750, 4226, 10097, 29889, 29871, 450, 6874, 471, 4502, 964, 278, 2175, 2625, 322, 278, 12246, 305, 616, 1788, 471, 1476, 304, 367, 4226, 29889, 29871, 1670, 892, 885, 1503, 322, 3887, 1111, 333, 7035, 1080, 29889, 29871, 1987, 278, 6874, 471, 4502, 964, 278, 1492, 2625, 988, 17354, 7035, 1080, 892, 7625, 322, 16531, 297, 263, 26505, 304, 367, 2665, 363, 9257, 322, 4771, 24858, 310, 14911, 711, 293, 322, 385, 29874, 261, 711, 293, 26933, 29875, 322, 323, 29933, 29889, 29871, 3824, 29892, 278, 2362, 284, 658, 5707, 892, 3902, 4395, 322, 1476, 304, 367, 4226, 29889, 29871, 1987, 29892, 278, 1492, 7568, 658, 915, 471, 1831, 3598, 508, 29876, 7964, 322, 694, 633, 8945, 1907, 892, 1476, 5174, 777, 7035, 1080, 892, 7051, 381, 630, 29889, 29871, 1987, 29892, 278, 12246, 4161, 2675, 304, 278, 2211, 24611, 892, 7604, 1891, 322, 694, 633, 8945, 1907, 470, 4158, 892, 1476, 29889, 29871, 1771, 1878, 4768, 3554, 29891, 471, 7625, 515, 697, 310, 278, 24611, 322, 2665, 304, 10802, 3002, 1696, 1576, 8792, 750, 304, 367, 27803, 3196, 3064, 1363, 310, 278, 16500, 29915, 29879, 553, 1337, 362, 29892, 541, 1156, 263, 2846, 6233, 310, 1913, 2423, 19548, 3460, 29892, 540, 24776, 5119, 7168, 2354, 1696, 4178, 278, 1095, 29892, 278, 16500, 20341, 630, 278, 8792, 1532, 322, 471, 2665, 304, 278, 24205, 5716, 297, 5119, 3832, 4195, 1696, 2, 2, 2, 2, 2, 2, 2, 2, 2, 2, 2, 2, 2, 2, 2, 2, 2, 2, 2, 2, 2, 2, 2, 2, 2, 2, 2, 2, 2, 2, 2, 2, 2, 2, 2, 2, 2, 2, 2, 2, 2, 2, 2, 2, 2, 2, 2, 2, 2, 2, 2, 2, 2, 2, 2, 2, 2, 2, 2, 2, 2, 2, 2, 2, 2, 2, 2, 2, 2, 2, 2, 2, 2, 2, 2, 2, 2, 2, 2, 2, 2, 2, 2, 2, 2, 2, 2, 2, 2, 2, 2, 2, 2, 2, 2, 2, 2, 2, 2, 2, 2, 2, 2]]\n",
            "Validation encodings: [[1, 379, 9047, 18929, 8079, 349, 15989, 3919, 306, 2208, 8186, 1799, 29901, 1919, 450, 16500, 338, 263, 29871, 29945, 29955, 29899, 6360, 29899, 1025, 12944, 1641, 3595, 9826, 363, 17983, 310, 6788, 322, 25828, 4835, 4475, 304, 263, 1162, 1264, 289, 13094, 316, 689, 537, 297, 13181, 1008, 284, 6900, 29892, 1492, 7621, 1135, 2175, 29889, 29871, 450, 16500, 5922, 1183, 338, 2534, 10231, 25828, 4835, 310, 6788, 322, 766, 510, 3921, 6942, 411, 1162, 26841, 310, 289, 13094, 316, 689, 537, 373, 278, 1492, 3661, 322, 6788, 1887, 1891, 304, 278, 1473, 29363, 322, 341, 3557, 14002, 310, 278, 1492, 3661, 408, 1532, 29889, 29871, 450, 16500, 750, 7536, 25300, 708, 8560, 14235, 29871, 29896, 29941, 2440, 8020, 29889, 29871, 2296, 5922, 393, 1951, 278, 931, 310, 278, 2441, 25300, 708, 278, 316, 689, 537, 756, 14205, 1162, 332, 1127, 29892, 322, 1183, 756, 10548, 6728, 573, 316, 689, 537, 297, 278, 3109, 261, 304, 267, 472, 278, 1473, 322, 4654, 304, 267, 310, 278, 2175, 3661, 322, 21677, 278, 1473, 29363, 310, 278, 1492, 3661, 29889, 29871, 450, 16500, 338, 15723, 373, 902, 6900, 408, 263, 13457, 19001, 322, 5922, 393, 1183, 947, 19531, 263, 13303, 14219, 13574, 607, 947, 3867, 777, 18892, 310, 26839, 6661, 6788, 5998, 451, 4866, 1696, 7228, 1254, 341, 3352, 2965, 1964, 379, 9047, 18929, 29892, 383, 5194, 6227, 29979, 379, 9047, 18929, 29892, 7791, 8426, 1964, 379, 9047, 18929, 669, 5195, 29963, 8673, 29956, 8079, 28962, 1254, 29923, 4345, 29901, 29892, 29871, 2823, 4121, 993, 5298, 9869, 29892, 607, 471, 9076, 287, 411, 278, 16500, 322, 338, 8794, 297, 278, 8727, 29889, 29871, 19793, 16083, 4955, 373, 278, 16500, 29892, 4940, 25300, 936, 4955, 29892, 1857, 13589, 800, 29892, 15721, 29899, 12817, 599, 15064, 583, 322, 5264, 4955, 505, 599, 1063, 4784, 322, 9076, 287, 29892, 322, 427, 15603, 297, 278, 8727, 1696, 19689, 21554, 2965, 1964, 8528, 5194, 1177, 8098, 29901, 1919, 11661, 936, 4392, 10320, 1338, 263, 21246, 29892, 29871, 29945, 29955, 29899, 6360, 29899, 1025, 12944, 1058, 338, 29871, 29945, 6900, 29871, 29946, 22831, 322, 29871, 29896, 29945, 29900, 24261, 29889, 29871, 2296, 756, 5112, 29886, 519, 282, 7273, 267, 29889, 29871, 2448, 2192, 19227, 4771, 362, 338, 938, 627, 29889, 29871, 1222, 314, 3381, 310, 278, 9413, 1907, 3697, 278, 16500, 408, 2534, 1532, 29899, 354, 7943, 25300, 936, 11840, 515, 902, 564, 386, 307, 572, 579, 29891, 29892, 1473, 13340, 13181, 1008, 635, 322, 7536, 289, 13094, 522, 16103, 29889, 29871, 1670, 338, 263, 1162, 26841, 310, 289, 13094, 316, 689, 537, 11682, 373, 1716, 2107, 304, 267, 5998, 278, 16500, 11486, 304, 505, 2769, 2197, 1781, 3464, 310, 10298, 29889, 29871, 2296, 756, 3153, 6788, 297, 278, 1473, 341, 3557, 14002, 310, 278, 1492, 3661, 322, 9004, 1078, 263, 286, 789, 3711, 29893, 29899, 517, 29872, 316, 689, 537, 310, 278, 1473, 322, 4654, 304, 267, 304, 278, 2175, 3661, 29892, 322, 304, 263, 3109, 261, 7426, 278, 1473, 29363, 304, 278, 1492, 29889, 29871, 402, 1249, 7418, 29901, 29871, 450, 16500, 15028, 322, 17042, 2039, 411], [1, 8528, 5194, 29901, 1919, 10103, 10678, 618, 1559, 327, 333, 29892, 13181, 1008, 284, 1696, 1525, 29909, 3094, 15842, 8528, 5194, 1177, 8098, 29901, 1919, 349, 475, 1696, 21514, 1718, 29902, 3094, 29901, 29892, 29871, 6213, 1696, 29943, 22255, 4214, 29903, 29901, 1919, 20347, 1008, 284, 3619, 1559, 327, 333, 564, 357, 583, 29914, 17519, 267, 22222, 13114, 29892, 758, 24130, 10835, 1661, 28667, 2164, 2174, 339, 292, 411, 286, 789, 22235, 928, 2174, 339, 292, 297, 278, 2175, 7463, 1559, 327, 333, 564, 22005, 29889, 29871, 1670, 526, 694, 1422, 11955, 470, 23161, 1938, 407, 1358, 10742, 689, 633, 8945, 1907, 1696, 16320, 25797, 5659, 2965, 360, 8254, 29901, 29892, 29871, 10428, 315, 5454, 349, 7597, 29871, 29900, 29889, 29955, 29906, 286, 29914, 29879, 29889, 29871, 10428, 306, 5454, 349, 7597, 338, 29871, 29900, 29889, 29945, 29929, 29945, 286, 29914, 29879, 29889, 29871, 10428, 306, 5454, 9408, 29963, 29871, 29900, 29889, 29896, 29947, 29947, 286, 29914, 29879, 29889, 29871, 10428, 24241, 1182, 284, 29871, 29900, 29889, 29945, 29896, 29955, 286, 29914, 29879, 29889, 10428, 18340, 29914, 4174, 338, 29871, 29900, 29889, 29947, 29906, 29953, 29889, 19941, 315, 5454, 349, 7597, 29871, 29900, 29889, 29945, 29955, 29896, 286, 29914, 29879, 29892, 2175, 306, 5454, 349, 7597, 29871, 29900, 29889, 29945, 29929, 29947, 286, 29914, 29879, 29889, 29871, 19941, 306, 5454, 9408, 29963, 29871, 29900, 29889, 29896, 29929, 29906, 286, 29914, 29879, 29889, 29871, 19941, 24241, 1182, 284, 29871, 29900, 29889, 29945, 29945, 29896, 286, 29914, 29879, 29889, 29871, 19941, 18340, 29914, 4174, 338, 29871, 29896, 29889, 29900, 29946, 29955, 1696, 29902, 3580, 1525, 13507, 29901, 29892, 29896, 29889, 29871, 1939, 10757, 363, 24899, 1711, 7282, 380, 264, 19263, 1696, 29906, 29889, 29871, 3080, 3039, 29892, 758, 24130, 10835, 4964, 2174, 339, 292, 1696, 2, 2, 2, 2, 2, 2, 2, 2, 2, 2, 2, 2, 2, 2, 2, 2, 2, 2, 2, 2, 2, 2, 2, 2, 2, 2, 2, 2, 2, 2, 2, 2, 2, 2, 2, 2, 2, 2, 2, 2, 2, 2, 2, 2, 2, 2, 2, 2, 2, 2, 2, 2, 2, 2, 2, 2, 2, 2, 2, 2, 2, 2, 2, 2, 2, 2, 2, 2, 2, 2, 2, 2, 2, 2, 2, 2, 2, 2, 2, 2, 2, 2, 2, 2, 2, 2, 2, 2, 2, 2, 2, 2, 2, 2, 2, 2, 2, 2, 2, 2, 2, 2, 2, 2, 2, 2, 2, 2, 2, 2, 2, 2, 2, 2, 2, 2, 2, 2, 2, 2, 2, 2, 2, 2, 2, 2, 2, 2, 2, 2, 2, 2, 2, 2, 2, 2, 2, 2, 2, 2, 2, 2, 2, 2, 2, 2, 2, 2, 2, 2, 2, 2, 2, 2, 2, 2, 2, 2, 2, 2, 2, 2, 2, 2, 2, 2, 2, 2, 2, 2, 2, 2, 2, 2, 2, 2, 2, 2, 2, 2, 2, 2, 2, 2, 2, 2, 2, 2, 2, 2, 2, 2, 2, 2, 2, 2, 2, 2, 2, 2, 2, 2, 2, 2, 2, 2, 2, 2, 2, 2, 2, 2, 2, 2, 2, 2, 2, 2]]\n",
            "Test encodings: [[1, 27085, 8079, 13756, 29907, 3352, 11499, 29901, 1919, 19941, 5192, 274, 493, 1308, 2133, 411, 9712, 2200, 352, 5275, 29892, 1831, 573, 25082, 653, 564, 357, 29875, 1946, 583, 29892, 9150, 380, 296, 292, 310, 278, 2175, 14123, 5153, 2548, 19640, 1696, 22255, 28541, 29901, 29892, 29871, 3599, 1264, 2614, 1099, 29889, 29871, 5298, 310, 25082, 653, 17135, 1696, 4330, 3210, 29940, 2965, 1964, 13756, 29907, 3352, 11499, 29901, 1919, 10117, 8660, 11335, 29892, 1492, 4071, 262, 1696, 29907, 7534, 2544, 23598, 501, 1660, 29928, 29901, 29892, 259, 29953, 29899, 29943, 4615, 282, 5523, 737, 29892, 29871, 29953, 29899, 29943, 4615, 435, 29931, 29946, 29892, 29871, 29953, 29899, 29943, 4615, 435, 29934, 29946, 1696, 13566, 2965, 29949, 10051, 13309, 8098, 29901, 1919, 29871, 29906, 29900, 29900, 29900, 310, 540, 862, 262, 29892, 29871, 29941, 29900, 29900, 310, 349, 4112, 861, 29892, 471, 23580, 373, 17100, 309, 262, 1696, 21514, 27888, 8098, 29903, 29901, 1919, 6213, 1696, 1254, 3919, 29901, 1919, 1152, 380, 296, 292, 591, 1304, 263, 29871, 29953, 29899, 29943, 4615, 2175, 8660, 11335, 10754, 29889, 29871, 624, 296, 471, 263, 29871, 29906, 29955, 29945, 921, 29871, 29896, 29941, 796, 1187, 1696, 2287, 7187, 24290, 2725, 8079, 13756, 29907, 3352, 11499, 29901, 1919, 306, 9076, 287, 411, 278, 16500, 278, 10791, 29892, 1136, 29892, 27809, 322, 5161, 2039, 310, 274, 493, 1308, 2133, 322, 7048, 362, 3704, 590, 542, 538, 616, 3041, 279, 428, 29892, 19782, 29892, 4892, 29892, 18658, 304, 302, 7143, 29892, 564, 22005, 470, 2453, 262, 297, 278, 2814, 29892, 639, 1454, 362, 310, 5881, 13544, 24171, 29892, 620, 9739, 310, 385, 564, 22005, 29892, 3948, 29882, 29265, 423, 26795, 6795, 845, 1698, 29892, 297, 20309, 29892, 10767, 21219, 29892, 16454, 1927, 29892, 322, 817, 363, 325, 6151, 1070, 25300, 708, 29889, 29871, 2178, 5155, 892, 7699, 322, 278, 16500, 8459, 304, 8469, 1696, 9606, 6720, 29928, 29979, 3521, 29924, 2965, 360, 8254, 29901, 1919, 319, 441, 293, 12959, 471, 2629, 4824, 29875, 1189, 293, 3464, 29889, 29871, 1670, 471, 694, 7282, 16030, 4822, 278, 263, 441, 293, 659, 345, 1696, 19453, 5971, 14345, 3301, 29950, 2965, 360, 8254, 29892, 29896, 29889, 29871, 21141, 2200, 352, 13342, 29901, 29871, 19941, 9712, 2200, 280, 471, 310, 4226, 2159, 322, 8267, 411, 4226, 10090, 10884, 29892, 4226, 321, 6929, 15958, 1696, 29906, 29889, 29871, 10428, 25082, 653, 564, 22005, 29901, 29871, 13298, 424, 29889, 29871, 1670, 471, 263, 966, 291, 297, 278, 23203, 284, 11910, 297, 278, 29871, 29953, 29900, 29995, 3464, 29892, 1663, 647, 928, 424, 17135, 1320, 635, 1696, 29941, 29889, 29871, 19941, 25082, 653, 564, 22005, 29901, 29871, 450, 2175, 1667, 25082, 653, 564, 22005, 10018, 1663, 647, 928, 424, 17135, 29889, 29871, 450, 9942, 16041, 28811, 29892, 10018, 1048, 29871, 29941, 29900, 29995, 23203, 635, 29889, 29871, 19941, 14123, 5153, 2548, 28811, 322, 278, 9251, 7180, 380, 296, 471, 7970, 2373, 296, 29889, 29871, 1670, 471, 263, 2919, 19640, 5443, 607, 10018, 29871, 29929, 29900, 29995, 380, 264, 19263, 297, 967, 23203, 284, 11910, 29889, 29871, 1670, 471, 263, 966, 291, 297, 278, 29871, 29941], [1, 349, 1525, 4590, 1001, 1299, 18474, 22471, 10051, 29940, 3267, 3235, 29901, 1919, 315, 6972, 936, 301, 962, 561, 4858, 459, 493, 29891, 1696, 5438, 4590, 1001, 1299, 18474, 22471, 10051, 29940, 3267, 3235, 29901, 29892, 29871, 315, 6972, 936, 301, 962, 561, 4858, 459, 493, 29891, 1696, 8618, 29907, 3352, 11499, 29901, 1919, 1222, 3476, 1848, 4768, 3554, 29891, 310, 1492, 5147, 29894, 936, 301, 962, 561, 2943, 1696, 2190, 29923, 1254, 29950, 2890, 10764, 29901, 1919, 4593, 1095, 327, 19690, 284, 385, 342, 13244, 423, 1696, 29903, 4162, 29907, 7833, 1430, 29901, 1919, 10428, 5147, 29894, 936, 301, 962, 561, 2943, 1696, 29923, 13367, 29901, 1919, 29871, 29896, 29900, 21759, 1696, 21514, 27888, 8098, 29903, 29901, 1919, 6213, 1696, 29943, 22255, 4214, 29903, 29901, 29892, 29871, 1174, 27489, 287, 3233, 29871, 29906, 301, 962, 561, 2943, 471, 15659, 322, 6206, 322, 2665, 363, 2224, 1189, 293, 4392, 3381, 1696, 10536, 11150, 29903, 29901, 1919, 3529, 1074, 385, 342, 13244, 423, 3461, 1696, 4574, 8895, 19474, 12336, 29901, 1919, 6213, 10478, 2645, 278, 1206, 1696, 22255, 28541, 29903, 15842, 13756, 29907, 3352, 11499, 29901, 1919, 910, 338, 263, 29871, 29946, 29941, 29899, 6360, 29899, 1025, 12944, 411, 263, 3196, 29899, 6360, 4955, 310, 28152, 5147, 29894, 936, 301, 962, 561, 4858, 459, 493, 29891, 29889, 29871, 2296, 13676, 393, 372, 338, 6788, 1319, 304, 5112, 29886, 362, 373, 278, 1492, 322, 756, 750, 2999, 26637, 885, 550, 408, 1532, 408, 385, 383, 3521, 607, 892, 599, 302, 898, 29875, 21780, 29889, 29871, 2860, 5161, 2039, 322, 23633, 310, 25300, 708, 892, 15648, 411, 278, 16500, 29892, 385, 23388, 20218, 471, 7625, 29889, 29871, 2296, 471, 21467, 363, 385, 429, 3476, 1848, 4768, 3554, 29891, 310, 278, 1492, 5147, 29894, 936, 301, 962, 561, 2943, 1696, 8618, 29907, 3352, 11499, 2672, 360, 2544, 29909, 6227, 29901, 1919, 450, 16500, 471, 4586, 304, 278, 13598, 5716, 322, 7180, 297, 278, 13159, 457, 2602, 29889, 29871, 2296, 471, 385, 342, 9188, 1891, 411, 2498, 1095, 327, 19690, 284, 385, 342, 13244, 423, 29889, 29871, 450, 18873, 471, 769, 758, 2986, 322, 270, 2390, 287, 297, 278, 16864, 488, 13460, 29889, 29871, 11454, 29892, 11682, 373, 5112, 29886, 362, 727, 471, 385, 427, 27489, 287, 3233, 29871, 29906, 5147, 29894, 936, 301, 962, 561, 2943, 1696, 29909, 29871, 29941, 29899, 4912, 14698, 5528, 2459, 471, 1754, 975, 445, 301, 962, 561, 2943, 29889, 29871, 3295, 2042, 471, 8988, 1623, 2745, 278, 27784, 542, 24503, 18902, 517, 333, 2301, 2841, 471, 15659, 29889, 29871, 450, 427, 27489, 287, 301, 962, 561, 2943, 393, 17005, 14235, 29871, 29906, 7477, 297, 24235, 471, 15659, 322, 471, 6206, 322, 2665, 304, 10802, 3002, 363, 6023, 8273, 17983, 29889, 29871, 450, 4038, 471, 769, 3902, 4395, 363, 738, 916, 427, 27489, 287, 301, 962, 561, 7573, 29889, 29871, 6213, 892, 15659, 29892, 322, 9736, 520, 25101, 471, 14363, 411, 28118, 1113, 329, 708, 29889, 29871, 319, 12616, 29899, 22466, 7363, 17811, 270, 6038, 471, 7180, 297, 278, 281, 618, 1696, 1576, 281, 618, 471, 769, 3805, 8966, 630, 322]]\n"
          ]
        }
      ]
    },
    {
      "cell_type": "code",
      "source": [
        "import torch\n",
        "\n",
        "class MedicalDataset(torch.utils.data.Dataset):\n",
        "    def __init__(self, encodings, labels):\n",
        "        self.encodings = encodings\n",
        "        self.labels = labels\n",
        "\n",
        "    def __getitem__(self, idx):\n",
        "        item = {key: torch.tensor(val[idx]) for key, val in self.encodings.items()}\n",
        "        item['labels'] = torch.tensor(self.labels[idx])\n",
        "        return item\n",
        "\n",
        "    def __len__(self):\n",
        "        return len(self.labels)\n",
        "\n",
        "# Create train and validation datasets\n",
        "train_dataset = MedicalDataset(train_encodings, train_labels)\n",
        "val_dataset = MedicalDataset(val_encodings, val_labels)\n",
        "test_dataset = MedicalDataset(test_encodings, test_labels)\n"
      ],
      "metadata": {
        "id": "JW8QGmCUPpqr"
      },
      "execution_count": null,
      "outputs": []
    },
    {
      "cell_type": "markdown",
      "source": [
        "**Training Configuration (Fine-tuning llama with loRA)**"
      ],
      "metadata": {
        "id": "U6bwC-yZAx7M"
      }
    },
    {
      "cell_type": "code",
      "source": [
        "from transformers import AutoTokenizer, AutoModelForCausalLM, BitsAndBytesConfig\n",
        "from peft import get_peft_model, LoraConfig, TaskType\n",
        "\n",
        "# Define quantization config\n",
        "bnb_config = BitsAndBytesConfig(\n",
        "    load_in_4bit=True,\n",
        "    bnb_4bit_quant_type=\"nf4\",  # or \"fp4\"\n",
        "    bnb_4bit_use_double_quant=True,\n",
        "    llm_int8_threshold=6.0\n",
        ")\n",
        "\n",
        "model_name = \"TinyLLaMA/TinyLLaMA-1.1B-Chat-v1.0\"\n",
        "\n",
        "\n",
        "# Load tokenizer and model with quantization config\n",
        "tokenizer = AutoTokenizer.from_pretrained(model_name)\n",
        "model = AutoModelForCausalLM.from_pretrained(\n",
        "    model_name,\n",
        "    quantization_config=bnb_config,\n",
        "    device_map=\"auto\"\n",
        ")\n",
        "\n",
        "# Define LoRA configuration\n",
        "peft_config = LoraConfig(\n",
        "    r=8,\n",
        "    lora_alpha=16,\n",
        "    target_modules=[\"q_proj\", \"v_proj\"],\n",
        "    lora_dropout=0.1,\n",
        "    bias=\"none\",\n",
        "    task_type=TaskType.SEQ_CLS\n",
        ")\n",
        "\n",
        "# Apply LoRA\n",
        "model = get_peft_model(model, peft_config)\n"
      ],
      "metadata": {
        "id": "FwL20-vacnog"
      },
      "execution_count": null,
      "outputs": []
    },
    {
      "cell_type": "code",
      "source": [
        "from transformers import AutoTokenizer, AutoModelForCausalLM, BitsAndBytesConfig\n",
        "from peft import get_peft_model, LoraConfig, TaskType\n"
      ],
      "metadata": {
        "id": "AOheWkO4imLl"
      },
      "execution_count": null,
      "outputs": []
    },
    {
      "cell_type": "code",
      "source": [
        "import torch.nn as nn\n",
        "\n",
        "class LLaMAForSequenceClassification(nn.Module):\n",
        "    def __init__(self, base_model_name, num_labels):\n",
        "        super().__init__()\n",
        "        self.base = AutoModelForCausalLM.from_pretrained(base_model_name, device_map=\"auto\")\n",
        "        self.config = self.base.config\n",
        "        self.classifier = nn.Linear(self.base.config.hidden_size, num_labels)\n",
        "        self.num_labels = num_labels\n",
        "\n",
        "    def forward(self, input_ids=None, attention_mask=None, labels=None, **kwargs):\n",
        "        outputs = self.base.model(\n",
        "            input_ids=input_ids,\n",
        "            attention_mask=attention_mask,\n",
        "            **kwargs\n",
        "        )\n",
        "        last_hidden = outputs.last_hidden_state[:, -1, :]  # [B, H]\n",
        "        logits = self.classifier(last_hidden)\n",
        "\n",
        "        loss = None\n",
        "        if labels is not None:\n",
        "            loss = nn.CrossEntropyLoss()(logits, labels)\n",
        "\n",
        "        return {\"loss\": loss, \"logits\": logits}\n"
      ],
      "metadata": {
        "id": "XM6Dh7D_v27Q"
      },
      "execution_count": null,
      "outputs": []
    },
    {
      "cell_type": "code",
      "source": [
        "model = LLaMAForSequenceClassification(\"TinyLLaMA/TinyLLaMA-1.1B-Chat-v1.0\", num_labels=5)\n",
        "\n",
        "model = get_peft_model(model, peft_config)"
      ],
      "metadata": {
        "colab": {
          "base_uri": "https://localhost:8080/"
        },
        "id": "5zAPvIJ1v68D",
        "outputId": "8eda3443-7b03-4c65-c5ed-5c62f00966ec"
      },
      "execution_count": null,
      "outputs": [
        {
          "output_type": "stream",
          "name": "stderr",
          "text": [
            "/usr/local/lib/python3.11/dist-packages/peft/mapping_func.py:79: UserWarning: The PEFT config's `base_model_name_or_path` was renamed from 'TinyLLaMA/TinyLLaMA-1.1B-Chat-v1.0' to 'None'. Please ensure that the correct base model is loaded when loading this checkpoint.\n",
            "  warnings.warn(\n"
          ]
        }
      ]
    },
    {
      "cell_type": "code",
      "source": [
        "training_args = TrainingArguments(\n",
        "    output_dir=\"./results\",\n",
        "    learning_rate=2e-4,\n",
        "    per_device_train_batch_size=4,\n",
        "    per_device_eval_batch_size=4,\n",
        "    num_train_epochs=3,\n",
        "    weight_decay=0.01,\n",
        "    logging_dir=\"./logs\",\n",
        "    logging_steps=500,\n",
        "    report_to=\"none\",\n",
        "    label_names=[\"labels\"]\n",
        ")\n",
        "\n",
        "tokenizer.pad_token = tokenizer.eos_token\n",
        "\n",
        "trainer = Trainer(\n",
        "    model=model,\n",
        "    args=training_args,\n",
        "    train_dataset=train_dataset,\n",
        "    eval_dataset=val_dataset,\n",
        "    tokenizer=tokenizer,\n",
        ")\n",
        "trainer.train()\n"
      ],
      "metadata": {
        "colab": {
          "base_uri": "https://localhost:8080/",
          "height": 262
        },
        "id": "9mMSqu6AtQrj",
        "outputId": "cf814632-090d-46ac-ba14-4121100aa05e"
      },
      "execution_count": null,
      "outputs": [
        {
          "output_type": "stream",
          "name": "stderr",
          "text": [
            "<ipython-input-17-4a10b72585eb>:16: FutureWarning: `tokenizer` is deprecated and will be removed in version 5.0.0 for `Trainer.__init__`. Use `processing_class` instead.\n",
            "  trainer = Trainer(\n"
          ]
        },
        {
          "output_type": "display_data",
          "data": {
            "text/plain": [
              "<IPython.core.display.HTML object>"
            ],
            "text/html": [
              "\n",
              "    <div>\n",
              "      \n",
              "      <progress value='1572' max='1572' style='width:300px; height:20px; vertical-align: middle;'></progress>\n",
              "      [1572/1572 1:05:00, Epoch 3/3]\n",
              "    </div>\n",
              "    <table border=\"1\" class=\"dataframe\">\n",
              "  <thead>\n",
              " <tr style=\"text-align: left;\">\n",
              "      <th>Step</th>\n",
              "      <th>Training Loss</th>\n",
              "    </tr>\n",
              "  </thead>\n",
              "  <tbody>\n",
              "    <tr>\n",
              "      <td>500</td>\n",
              "      <td>1.079900</td>\n",
              "    </tr>\n",
              "    <tr>\n",
              "      <td>1000</td>\n",
              "      <td>0.693400</td>\n",
              "    </tr>\n",
              "    <tr>\n",
              "      <td>1500</td>\n",
              "      <td>0.526600</td>\n",
              "    </tr>\n",
              "  </tbody>\n",
              "</table><p>"
            ]
          },
          "metadata": {}
        },
        {
          "output_type": "execute_result",
          "data": {
            "text/plain": [
              "TrainOutput(global_step=1572, training_loss=0.7554834040673332, metrics={'train_runtime': 3903.7453, 'train_samples_per_second': 1.61, 'train_steps_per_second': 0.403, 'total_flos': 0.0, 'train_loss': 0.7554834040673332, 'epoch': 3.0})"
            ]
          },
          "metadata": {},
          "execution_count": 17
        }
      ]
    },
    {
      "cell_type": "code",
      "source": [
        "trainer.save_model(\"/content/modelv4\")"
      ],
      "metadata": {
        "id": "jtUvDK6JwSrc"
      },
      "execution_count": null,
      "outputs": []
    },
    {
      "cell_type": "markdown",
      "source": [],
      "metadata": {
        "id": "DNFcOdZdVkzZ"
      }
    },
    {
      "cell_type": "code",
      "source": [
        "!zip -r /content/modelv4.zip /content/modelv4\n"
      ],
      "metadata": {
        "colab": {
          "base_uri": "https://localhost:8080/"
        },
        "id": "wzdcgD_BwaEb",
        "outputId": "89be9db4-272d-47d6-c0bc-a0479f3f6b3d"
      },
      "execution_count": null,
      "outputs": [
        {
          "output_type": "stream",
          "name": "stdout",
          "text": [
            "  adding: content/modelv4/ (stored 0%)\n",
            "  adding: content/modelv4/adapter_model.safetensors (deflated 8%)\n",
            "  adding: content/modelv4/training_args.bin (deflated 52%)\n",
            "  adding: content/modelv4/special_tokens_map.json (deflated 73%)\n",
            "  adding: content/modelv4/tokenizer.model (deflated 55%)\n",
            "  adding: content/modelv4/tokenizer.json (deflated 85%)\n",
            "  adding: content/modelv4/tokenizer_config.json (deflated 68%)\n",
            "  adding: content/modelv4/adapter_config.json (deflated 57%)\n",
            "  adding: content/modelv4/README.md (deflated 66%)\n"
          ]
        }
      ]
    },
    {
      "cell_type": "code",
      "source": [
        "from google.colab import files\n",
        "files.download('/content/modelv4.zip')"
      ],
      "metadata": {
        "colab": {
          "base_uri": "https://localhost:8080/",
          "height": 17
        },
        "id": "N1EYD8AOw4ud",
        "outputId": "4080de78-f66a-45b3-bc87-14a7f234fac5"
      },
      "execution_count": null,
      "outputs": [
        {
          "output_type": "display_data",
          "data": {
            "text/plain": [
              "<IPython.core.display.Javascript object>"
            ],
            "application/javascript": [
              "\n",
              "    async function download(id, filename, size) {\n",
              "      if (!google.colab.kernel.accessAllowed) {\n",
              "        return;\n",
              "      }\n",
              "      const div = document.createElement('div');\n",
              "      const label = document.createElement('label');\n",
              "      label.textContent = `Downloading \"${filename}\": `;\n",
              "      div.appendChild(label);\n",
              "      const progress = document.createElement('progress');\n",
              "      progress.max = size;\n",
              "      div.appendChild(progress);\n",
              "      document.body.appendChild(div);\n",
              "\n",
              "      const buffers = [];\n",
              "      let downloaded = 0;\n",
              "\n",
              "      const channel = await google.colab.kernel.comms.open(id);\n",
              "      // Send a message to notify the kernel that we're ready.\n",
              "      channel.send({})\n",
              "\n",
              "      for await (const message of channel.messages) {\n",
              "        // Send a message to notify the kernel that we're ready.\n",
              "        channel.send({})\n",
              "        if (message.buffers) {\n",
              "          for (const buffer of message.buffers) {\n",
              "            buffers.push(buffer);\n",
              "            downloaded += buffer.byteLength;\n",
              "            progress.value = downloaded;\n",
              "          }\n",
              "        }\n",
              "      }\n",
              "      const blob = new Blob(buffers, {type: 'application/binary'});\n",
              "      const a = document.createElement('a');\n",
              "      a.href = window.URL.createObjectURL(blob);\n",
              "      a.download = filename;\n",
              "      div.appendChild(a);\n",
              "      a.click();\n",
              "      div.remove();\n",
              "    }\n",
              "  "
            ]
          },
          "metadata": {}
        },
        {
          "output_type": "display_data",
          "data": {
            "text/plain": [
              "<IPython.core.display.Javascript object>"
            ],
            "application/javascript": [
              "download(\"download_b8924796-8037-40d8-a60b-72bd47d77d68\", \"modelv4.zip\", 4981310)"
            ]
          },
          "metadata": {}
        }
      ]
    },
    {
      "cell_type": "code",
      "source": [
        "from transformers import AutoTokenizer, AutoModelForSequenceClassification\n",
        "from peft import PeftModel\n",
        "import torch\n",
        "\n",
        "# Load base model with correct number of labels\n",
        "device = torch.device(\"cuda\" if torch.cuda.is_available() else \"cpu\")\n",
        "\n",
        "\n",
        "model_with_adapter = LLaMAForSequenceClassification(\"TinyLLaMA/TinyLLaMA-1.1B-Chat-v1.0\", num_labels=5)\n",
        "\n",
        "\n",
        "# Load LoRA adapter weights into base model\n",
        "model_with_adapter = PeftModel.from_pretrained(model_with_adapter, \"./modelv4\").to(device)\n",
        "\n",
        "# Set to evaluation mode\n",
        "model_with_adapter.eval()\n"
      ],
      "metadata": {
        "colab": {
          "base_uri": "https://localhost:8080/"
        },
        "id": "CNNbIEM45W5S",
        "outputId": "d7a00e51-69a9-4299-95ad-016acf4eba95"
      },
      "execution_count": null,
      "outputs": [
        {
          "output_type": "execute_result",
          "data": {
            "text/plain": [
              "PeftModelForSequenceClassification(\n",
              "  (base_model): LoraModel(\n",
              "    (model): LLaMAForSequenceClassification(\n",
              "      (base): LlamaForCausalLM(\n",
              "        (model): LlamaModel(\n",
              "          (embed_tokens): Embedding(32000, 2048)\n",
              "          (layers): ModuleList(\n",
              "            (0-21): 22 x LlamaDecoderLayer(\n",
              "              (self_attn): LlamaAttention(\n",
              "                (q_proj): lora.Linear(\n",
              "                  (base_layer): Linear(in_features=2048, out_features=2048, bias=False)\n",
              "                  (lora_dropout): ModuleDict(\n",
              "                    (default): Dropout(p=0.1, inplace=False)\n",
              "                  )\n",
              "                  (lora_A): ModuleDict(\n",
              "                    (default): Linear(in_features=2048, out_features=8, bias=False)\n",
              "                  )\n",
              "                  (lora_B): ModuleDict(\n",
              "                    (default): Linear(in_features=8, out_features=2048, bias=False)\n",
              "                  )\n",
              "                  (lora_embedding_A): ParameterDict()\n",
              "                  (lora_embedding_B): ParameterDict()\n",
              "                  (lora_magnitude_vector): ModuleDict()\n",
              "                )\n",
              "                (k_proj): Linear(in_features=2048, out_features=256, bias=False)\n",
              "                (v_proj): lora.Linear(\n",
              "                  (base_layer): Linear(in_features=2048, out_features=256, bias=False)\n",
              "                  (lora_dropout): ModuleDict(\n",
              "                    (default): Dropout(p=0.1, inplace=False)\n",
              "                  )\n",
              "                  (lora_A): ModuleDict(\n",
              "                    (default): Linear(in_features=2048, out_features=8, bias=False)\n",
              "                  )\n",
              "                  (lora_B): ModuleDict(\n",
              "                    (default): Linear(in_features=8, out_features=256, bias=False)\n",
              "                  )\n",
              "                  (lora_embedding_A): ParameterDict()\n",
              "                  (lora_embedding_B): ParameterDict()\n",
              "                  (lora_magnitude_vector): ModuleDict()\n",
              "                )\n",
              "                (o_proj): Linear(in_features=2048, out_features=2048, bias=False)\n",
              "              )\n",
              "              (mlp): LlamaMLP(\n",
              "                (gate_proj): Linear(in_features=2048, out_features=5632, bias=False)\n",
              "                (up_proj): Linear(in_features=2048, out_features=5632, bias=False)\n",
              "                (down_proj): Linear(in_features=5632, out_features=2048, bias=False)\n",
              "                (act_fn): SiLU()\n",
              "              )\n",
              "              (input_layernorm): LlamaRMSNorm((2048,), eps=1e-05)\n",
              "              (post_attention_layernorm): LlamaRMSNorm((2048,), eps=1e-05)\n",
              "            )\n",
              "          )\n",
              "          (norm): LlamaRMSNorm((2048,), eps=1e-05)\n",
              "          (rotary_emb): LlamaRotaryEmbedding()\n",
              "        )\n",
              "        (lm_head): Linear(in_features=2048, out_features=32000, bias=False)\n",
              "      )\n",
              "      (classifier): ModulesToSaveWrapper(\n",
              "        (original_module): Linear(in_features=2048, out_features=5, bias=True)\n",
              "        (modules_to_save): ModuleDict(\n",
              "          (default): Linear(in_features=2048, out_features=5, bias=True)\n",
              "        )\n",
              "      )\n",
              "    )\n",
              "  )\n",
              ")"
            ]
          },
          "metadata": {},
          "execution_count": 22
        }
      ]
    },
    {
      "cell_type": "code",
      "source": [
        "model_with_adapter.peft_config"
      ],
      "metadata": {
        "colab": {
          "base_uri": "https://localhost:8080/"
        },
        "id": "FBSfQdtbaaa9",
        "outputId": "a1d59a31-7c20-4e26-d746-099534ef0863"
      },
      "execution_count": null,
      "outputs": [
        {
          "output_type": "execute_result",
          "data": {
            "text/plain": [
              "{'default': LoraConfig(task_type='SEQ_CLS', peft_type=<PeftType.LORA: 'LORA'>, auto_mapping=None, base_model_name_or_path=None, revision=None, inference_mode=True, r=8, target_modules={'q_proj', 'v_proj'}, exclude_modules=None, lora_alpha=16, lora_dropout=0.1, fan_in_fan_out=False, bias='none', use_rslora=False, modules_to_save=['classifier', 'score', 'classifier', 'score', 'classifier', 'score'], init_lora_weights=True, layers_to_transform=None, layers_pattern=None, rank_pattern={}, alpha_pattern={}, megatron_config=None, megatron_core='megatron.core', trainable_token_indices=None, loftq_config={}, eva_config=None, corda_config=None, use_dora=False, layer_replication=None, runtime_config=LoraRuntimeConfig(ephemeral_gpu_offload=False), lora_bias=False)}"
            ]
          },
          "metadata": {},
          "execution_count": 23
        }
      ]
    },
    {
      "cell_type": "markdown",
      "source": [
        "**Predicting Sample**"
      ],
      "metadata": {
        "id": "S1PB5RkyNaIK"
      }
    },
    {
      "cell_type": "code",
      "source": [
        "text = \"The patient presents with chest pain and radiating discomfort.\"\n",
        "\n",
        "inputs = tokenizer(text, return_tensors=\"pt\", padding=True, truncation=True, max_length=512).to(device)\n",
        "\n",
        "with torch.no_grad():\n",
        "    outputs = model_with_adapter(**inputs)\n",
        "    logits = outputs[\"logits\"]\n",
        "    predicted_class = torch.argmax(logits, dim=1).item()\n",
        "\n",
        "# Convert back to label if needed\n",
        "predicted_label = label_encoder.inverse_transform([predicted_class])[0]\n",
        "print(\"Predicted Medical Specialty:\", predicted_label)\n"
      ],
      "metadata": {
        "colab": {
          "base_uri": "https://localhost:8080/"
        },
        "id": "oIHU-HwH6ZOU",
        "outputId": "872581e1-60ce-4404-87fa-952039275891"
      },
      "execution_count": null,
      "outputs": [
        {
          "output_type": "stream",
          "name": "stdout",
          "text": [
            "Predicted Medical Specialty:  Cardiovascular / Pulmonary\n"
          ]
        }
      ]
    },
    {
      "cell_type": "code",
      "source": [
        "!unzip /content/modelv3.zip\n"
      ],
      "metadata": {
        "colab": {
          "base_uri": "https://localhost:8080/"
        },
        "id": "_BHgp3HIi5R5",
        "outputId": "7d38a503-64cb-4bfa-c69d-f5006fde69fd"
      },
      "execution_count": null,
      "outputs": [
        {
          "output_type": "stream",
          "name": "stdout",
          "text": [
            "Archive:  /content/modelv3.zip\n",
            "   creating: content/modelv3/\n",
            "  inflating: content/modelv3/adapter_model.safetensors  \n",
            "  inflating: content/modelv3/training_args.bin  \n",
            "  inflating: content/modelv3/special_tokens_map.json  \n",
            "  inflating: content/modelv3/tokenizer.model  \n",
            "  inflating: content/modelv3/tokenizer.json  \n",
            "  inflating: content/modelv3/tokenizer_config.json  \n",
            "  inflating: content/modelv3/adapter_config.json  \n",
            "  inflating: content/modelv3/README.md  \n"
          ]
        }
      ]
    },
    {
      "cell_type": "markdown",
      "source": [
        "**Evaluation**"
      ],
      "metadata": {
        "id": "35rgzKVZNHhQ"
      }
    },
    {
      "cell_type": "code",
      "source": [
        "from torch.utils.data import DataLoader\n",
        "from tqdm import tqdm\n",
        "import torch\n",
        "from sklearn.metrics import accuracy_score\n",
        "\n",
        "# Assuming you already have:\n",
        "# test_dataset = MedicalDataset(test_encodings, test_labels)\n",
        "\n",
        "test_loader = DataLoader(test_dataset, batch_size=8, shuffle=False)\n",
        "\n",
        "device = torch.device(\"cuda\" if torch.cuda.is_available() else \"cpu\")\n",
        "\n",
        "# Load the base tokenizer\n",
        "tokenizer = AutoTokenizer.from_pretrained(\"/content/modelv4\")\n",
        "\n",
        "\n",
        "\n",
        "def evaluate_llama(model, loader):\n",
        "    preds = []\n",
        "    labels = []\n",
        "    with torch.no_grad():\n",
        "        for batch in tqdm(loader):\n",
        "            input_ids = batch['input_ids'].to(device)\n",
        "            attention_mask = batch['attention_mask'].to(device)\n",
        "            label = batch['labels'].to(device)\n",
        "\n",
        "\n",
        "\n",
        "            outputs = model(input_ids=input_ids, attention_mask=attention_mask)\n",
        "            logits = outputs[\"logits\"]\n",
        "            predicted_class = torch.argmax(logits, dim=1)\n",
        "\n",
        "\n",
        "            preds.extend(predicted_class.cpu().numpy())\n",
        "            labels.extend(label.cpu().numpy())\n",
        "\n",
        "    acc = accuracy_score(labels, preds)\n",
        "    return acc,labels,preds\n",
        "\n",
        "\n"
      ],
      "metadata": {
        "id": "-l28nO768QgR"
      },
      "execution_count": null,
      "outputs": []
    },
    {
      "cell_type": "code",
      "source": [
        "adapter_acc , label , preds = evaluate_llama(model_with_adapter, test_loader)\n",
        "print(f\"\\n Accuracy of BASE + ADAPTER model: {adapter_acc * 100:.4f}%\")"
      ],
      "metadata": {
        "colab": {
          "base_uri": "https://localhost:8080/"
        },
        "id": "oD8jUNix9hB2",
        "outputId": "5d31dcc2-def8-41a2-ee69-dd658af49b77"
      },
      "execution_count": null,
      "outputs": [
        {
          "output_type": "stream",
          "name": "stderr",
          "text": [
            "100%|██████████| 33/33 [01:07<00:00,  2.04s/it]"
          ]
        },
        {
          "output_type": "stream",
          "name": "stdout",
          "text": [
            "\n",
            " Accuracy of BASE + ADAPTER model: 73.5632%\n"
          ]
        },
        {
          "output_type": "stream",
          "name": "stderr",
          "text": [
            "\n"
          ]
        }
      ]
    },
    {
      "cell_type": "code",
      "source": [
        "from sklearn.metrics import classification_report, confusion_matrix, ConfusionMatrixDisplay\n",
        "import matplotlib.pyplot as plt\n"
      ],
      "metadata": {
        "id": "xuZLSS62qhXf"
      },
      "execution_count": null,
      "outputs": []
    },
    {
      "cell_type": "code",
      "source": [
        "class_names = label_encoder.classes_\n",
        "report = classification_report(label, preds, target_names=class_names)\n",
        "print(report)"
      ],
      "metadata": {
        "colab": {
          "base_uri": "https://localhost:8080/"
        },
        "id": "C0t7OejKrK8M",
        "outputId": "9106cb4d-156b-4f68-d79b-e37f51385894"
      },
      "execution_count": null,
      "outputs": [
        {
          "output_type": "stream",
          "name": "stdout",
          "text": [
            "                             precision    recall  f1-score   support\n",
            "\n",
            " Cardiovascular / Pulmonary       0.51      0.55      0.53        40\n",
            " Consult - History and Phy.       0.89      0.76      0.82        51\n",
            "                 Orthopedic       0.57      0.57      0.57        30\n",
            "                  Radiology       0.73      0.75      0.74        32\n",
            "                    Surgery       0.81      0.83      0.82       108\n",
            "\n",
            "                   accuracy                           0.74       261\n",
            "                  macro avg       0.70      0.69      0.70       261\n",
            "               weighted avg       0.74      0.74      0.74       261\n",
            "\n"
          ]
        }
      ]
    },
    {
      "cell_type": "code",
      "source": [
        "cm = confusion_matrix(label, preds)\n",
        "\n",
        "disp = ConfusionMatrixDisplay(confusion_matrix=cm, display_labels=class_names)\n",
        "fig, ax = plt.subplots(figsize=(10, 10))  # Adjust size as needed\n",
        "disp.plot(ax=ax, xticks_rotation=45, cmap='Blues', colorbar=False)\n",
        "plt.title(\"Confusion Matrix\")\n",
        "plt.tight_layout()\n",
        "plt.show()\n"
      ],
      "metadata": {
        "colab": {
          "base_uri": "https://localhost:8080/",
          "height": 984
        },
        "id": "t15siR06sMiA",
        "outputId": "a976a749-b8eb-4ae6-f7d4-6f1bb7e2fbf6"
      },
      "execution_count": null,
      "outputs": [
        {
          "output_type": "display_data",
          "data": {
            "text/plain": [
              "<Figure size 1000x1000 with 1 Axes>"
            ],
            "image/png": "[encoded data removed]"
          },
          "metadata": {}
        }
      ]
    },
    {
      "cell_type": "code",
      "source": [
        "model = LLaMAForSequenceClassification(\"TinyLLaMA/TinyLLaMA-1.1B-Chat-v1.0\", num_labels=5)\n",
        "model.eval()\n",
        "\n",
        "adapter_acc = evaluate_llama(model, test_loader)\n",
        "print(f\"\\n Accuracy of BASE model: {adapter_acc * 100:.4f}%\")"
      ],
      "metadata": {
        "colab": {
          "base_uri": "https://localhost:8080/",
          "height": 165,
          "referenced_widgets": [
            "9e146310834641d6af30b2e5fd6d638b",
            "744af2cbeece424aaba09ed1c64eaae4",
            "a778473b63374a18949fa3ada9750021",
            "55fba40f547c49699ee6c4bf280eb145",
            "deadc839f2814a058453b5c5b2168455",
            "76c0e3ec44d24bbb8557cb521a2fea24",
            "51c87da6eff749e9828ac581fa09b034",
            "bc8858c0bba5440f8dcedb623e84be1c",
            "85c660aedc1d46fab4c6fcb8ee2b7daa",
            "5f78c3eac5954706a1892cc66b75affa",
            "138fcceea4c34ad496810628b3b208fc",
            "bc7db86fd1604ec7a67abaefba77ff57",
            "dfae9739b64c4c9984f0f11d6bd9c213",
            "2fe7ab768f6f4343abb466e60f82e59e",
            "7fa88442e83143ebbea07571f7f13635",
            "b45945128df842858fa68b4052ca8f3e",
            "1acf9f93669e428da2b784ac57d0490c",
            "417597da6f1349ef8d67b75b022eab62",
            "7eccf689e5164a3b83073c0ca7306d0f",
            "4fffc570420443b3ab3d0c468381039a",
            "29440677813d43d0a617026e4420abb8",
            "18871fa204e64a20a0c74657e3720e4c",
            "48cb7a4230d740d5bbc6ca6827e91d66",
            "d49ec40315864b999c8d34785031e472",
            "a053d69f97004f00bc998759380e7c3c",
            "814b4ba97dae4df0a4a745b53120ea86",
            "43dd1c1827934fb9ba19303752c9781f",
            "ba070e86f1814f698e55bd1d7285aff2",
            "66255e0871d34edd9b8608a22635738e",
            "a5b831b98d234c6b93853df6f7c5ab78",
            "cc0fc904fcca4f3a9f45b29b115d997d",
            "6f885eecb55f4218a3409aca71d3d747",
            "ed8982a011734962a48ccfcf290c8a0f"
          ]
        },
        "id": "poIOS12XCJg0",
        "outputId": "3cda4be9-e9b8-4723-a332-87479a6ff5c7"
      },
      "execution_count": null,
      "outputs": [
        {
          "output_type": "display_data",
          "data": {
            "text/plain": [
              "config.json:   0%|          | 0.00/608 [00:00<?, ?B/s]"
            ],
            "application/vnd.jupyter.widget-view+json": {
              "version_major": 2,
              "version_minor": 0,
              "model_id": "9e146310834641d6af30b2e5fd6d638b"
            }
          },
          "metadata": {}
        },
        {
          "output_type": "display_data",
          "data": {
            "text/plain": [
              "model.safetensors:   0%|          | 0.00/2.20G [00:00<?, ?B/s]"
            ],
            "application/vnd.jupyter.widget-view+json": {
              "version_major": 2,
              "version_minor": 0,
              "model_id": "bc7db86fd1604ec7a67abaefba77ff57"
            }
          },
          "metadata": {}
        },
        {
          "output_type": "display_data",
          "data": {
            "text/plain": [
              "generation_config.json:   0%|          | 0.00/124 [00:00<?, ?B/s]"
            ],
            "application/vnd.jupyter.widget-view+json": {
              "version_major": 2,
              "version_minor": 0,
              "model_id": "48cb7a4230d740d5bbc6ca6827e91d66"
            }
          },
          "metadata": {}
        },
        {
          "output_type": "stream",
          "name": "stderr",
          "text": [
            "100%|██████████| 33/33 [1:17:48<00:00, 141.46s/it]"
          ]
        },
        {
          "output_type": "stream",
          "name": "stdout",
          "text": [
            "\n",
            " Accuracy of BASE model: 15.6489%\n"
          ]
        },
        {
          "output_type": "stream",
          "name": "stderr",
          "text": [
            "\n"
          ]
        }
      ]
    }
  ]
}